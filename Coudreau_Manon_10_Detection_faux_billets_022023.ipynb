{
  "nbformat": 4,
  "nbformat_minor": 0,
  "metadata": {
    "colab": {
      "provenance": [],
      "collapsed_sections": [
        "TXwcYeGJYl7l",
        "u1GJbpPJY1YQ",
        "C9QeDnZtw8L-",
        "vbn_W7wg-Ea8",
        "nWUz86cnh8do",
        "SDHx2EC_-TMM"
      ],
      "authorship_tag": "ABX9TyPFw4D390NZRuRDab9Rfyg2",
      "include_colab_link": true
    },
    "kernelspec": {
      "name": "python3",
      "display_name": "Python 3"
    },
    "language_info": {
      "name": "python"
    }
  },
  "cells": [
    {
      "cell_type": "markdown",
      "metadata": {
        "id": "view-in-github",
        "colab_type": "text"
      },
      "source": [
        "<a href=\"https://colab.research.google.com/github/mcoudreau/Python/blob/Master/Coudreau_Manon_10_Detection_faux_billets_022023.ipynb\" target=\"_parent\"><img src=\"https://colab.research.google.com/assets/colab-badge.svg\" alt=\"Open In Colab\"/></a>"
      ]
    },
    {
      "cell_type": "markdown",
      "source": [
        "# **CONTEXTE ET OBJECTIF**\n",
        "\n",
        "L’Organisation nationale de lutte contre le faux-monnayage, ou ONCFM souhaite renforcer ses méthodes d’identification des contrefaçons des billets en euros et pour cela nous confie la mission :\n",
        "\n",
        "\n",
        "\n",
        "1.   De mettre en place un algorithme qui soit capable de différencier automatiquement les vrais des faux billets.\n",
        "2.    L’algorithme doit pouvoir différencier les vrais des faux billets à partir des caractéristique géométriques de ces derniers\n"
      ],
      "metadata": {
        "id": "WF8v_kPOYGNT"
      }
    },
    {
      "cell_type": "markdown",
      "source": [
        "# **I. Importation des librairies et des données**"
      ],
      "metadata": {
        "id": "TXwcYeGJYl7l"
      }
    },
    {
      "cell_type": "code",
      "execution_count": 93,
      "metadata": {
        "id": "MpQI3qByLlS_"
      },
      "outputs": [],
      "source": [
        "import pandas as pd\n",
        "import numpy as np\n",
        "\n",
        "# Librairies de calcul:\n",
        "import math\n",
        "import numpy as np\n",
        "import pandas as pd\n",
        "import statsmodels.api as sm\n",
        "import statsmodels.formula.api as smf\n",
        "import scipy.stats as st\n",
        "import statsmodels\n",
        "\n",
        "\n",
        "# Pour la regression lineaire:\n",
        "from statsmodels.formula.api import ols\n",
        "from statsmodels.stats.diagnostic import het_white , normal_ad\n",
        "from sklearn.linear_model import LinearRegression\n",
        "from statsmodels.stats.outliers_influence import variance_inflation_factor\n",
        "import matplotlib.pyplot as plt\n",
        "from matplotlib.collections import LineCollection\n",
        "import seaborn as sns\n",
        "\n",
        "# Pour la regression logistique:\n",
        "from sklearn.linear_model import LogisticRegression\n",
        "\n",
        "# Pour Kmeans\n",
        "from sklearn.cluster import KMeans\n",
        "from sklearn import decomposition\n",
        "from sklearn import preprocessing\n",
        "from sklearn.metrics import confusion_matrix\n",
        "from sklearn.metrics import roc_curve\n",
        "from scipy.cluster.hierarchy import dendrogram, linkage, fcluster\n",
        "from sklearn.decomposition import PCA\n",
        "from sklearn.preprocessing import StandardScaler\n"
      ]
    },
    {
      "cell_type": "code",
      "source": [
        "dataset = pd.read_csv('/content/billets.csv',sep = ';')\n",
        "billets = dataset.copy()\n",
        "billets.head()"
      ],
      "metadata": {
        "colab": {
          "base_uri": "https://localhost:8080/",
          "height": 206
        },
        "id": "aJpFAfsUMNIk",
        "outputId": "708fbbd7-34cb-49ba-dbc6-f3d908801b18"
      },
      "execution_count": 2,
      "outputs": [
        {
          "output_type": "execute_result",
          "data": {
            "text/plain": [
              "   is_genuine  diagonal  height_left  height_right  margin_low  margin_up  \\\n",
              "0        True    171.81       104.86        104.95        4.52       2.89   \n",
              "1        True    171.46       103.36        103.66        3.77       2.99   \n",
              "2        True    172.69       104.48        103.50        4.40       2.94   \n",
              "3        True    171.36       103.91        103.94        3.62       3.01   \n",
              "4        True    171.73       104.28        103.46        4.04       3.48   \n",
              "\n",
              "   length  \n",
              "0  112.83  \n",
              "1  113.09  \n",
              "2  113.16  \n",
              "3  113.51  \n",
              "4  112.54  "
            ],
            "text/html": [
              "\n",
              "  <div id=\"df-1ee14210-6a61-42d7-8f67-6c9a84ee4a66\">\n",
              "    <div class=\"colab-df-container\">\n",
              "      <div>\n",
              "<style scoped>\n",
              "    .dataframe tbody tr th:only-of-type {\n",
              "        vertical-align: middle;\n",
              "    }\n",
              "\n",
              "    .dataframe tbody tr th {\n",
              "        vertical-align: top;\n",
              "    }\n",
              "\n",
              "    .dataframe thead th {\n",
              "        text-align: right;\n",
              "    }\n",
              "</style>\n",
              "<table border=\"1\" class=\"dataframe\">\n",
              "  <thead>\n",
              "    <tr style=\"text-align: right;\">\n",
              "      <th></th>\n",
              "      <th>is_genuine</th>\n",
              "      <th>diagonal</th>\n",
              "      <th>height_left</th>\n",
              "      <th>height_right</th>\n",
              "      <th>margin_low</th>\n",
              "      <th>margin_up</th>\n",
              "      <th>length</th>\n",
              "    </tr>\n",
              "  </thead>\n",
              "  <tbody>\n",
              "    <tr>\n",
              "      <th>0</th>\n",
              "      <td>True</td>\n",
              "      <td>171.81</td>\n",
              "      <td>104.86</td>\n",
              "      <td>104.95</td>\n",
              "      <td>4.52</td>\n",
              "      <td>2.89</td>\n",
              "      <td>112.83</td>\n",
              "    </tr>\n",
              "    <tr>\n",
              "      <th>1</th>\n",
              "      <td>True</td>\n",
              "      <td>171.46</td>\n",
              "      <td>103.36</td>\n",
              "      <td>103.66</td>\n",
              "      <td>3.77</td>\n",
              "      <td>2.99</td>\n",
              "      <td>113.09</td>\n",
              "    </tr>\n",
              "    <tr>\n",
              "      <th>2</th>\n",
              "      <td>True</td>\n",
              "      <td>172.69</td>\n",
              "      <td>104.48</td>\n",
              "      <td>103.50</td>\n",
              "      <td>4.40</td>\n",
              "      <td>2.94</td>\n",
              "      <td>113.16</td>\n",
              "    </tr>\n",
              "    <tr>\n",
              "      <th>3</th>\n",
              "      <td>True</td>\n",
              "      <td>171.36</td>\n",
              "      <td>103.91</td>\n",
              "      <td>103.94</td>\n",
              "      <td>3.62</td>\n",
              "      <td>3.01</td>\n",
              "      <td>113.51</td>\n",
              "    </tr>\n",
              "    <tr>\n",
              "      <th>4</th>\n",
              "      <td>True</td>\n",
              "      <td>171.73</td>\n",
              "      <td>104.28</td>\n",
              "      <td>103.46</td>\n",
              "      <td>4.04</td>\n",
              "      <td>3.48</td>\n",
              "      <td>112.54</td>\n",
              "    </tr>\n",
              "  </tbody>\n",
              "</table>\n",
              "</div>\n",
              "      <button class=\"colab-df-convert\" onclick=\"convertToInteractive('df-1ee14210-6a61-42d7-8f67-6c9a84ee4a66')\"\n",
              "              title=\"Convert this dataframe to an interactive table.\"\n",
              "              style=\"display:none;\">\n",
              "        \n",
              "  <svg xmlns=\"http://www.w3.org/2000/svg\" height=\"24px\"viewBox=\"0 0 24 24\"\n",
              "       width=\"24px\">\n",
              "    <path d=\"M0 0h24v24H0V0z\" fill=\"none\"/>\n",
              "    <path d=\"M18.56 5.44l.94 2.06.94-2.06 2.06-.94-2.06-.94-.94-2.06-.94 2.06-2.06.94zm-11 1L8.5 8.5l.94-2.06 2.06-.94-2.06-.94L8.5 2.5l-.94 2.06-2.06.94zm10 10l.94 2.06.94-2.06 2.06-.94-2.06-.94-.94-2.06-.94 2.06-2.06.94z\"/><path d=\"M17.41 7.96l-1.37-1.37c-.4-.4-.92-.59-1.43-.59-.52 0-1.04.2-1.43.59L10.3 9.45l-7.72 7.72c-.78.78-.78 2.05 0 2.83L4 21.41c.39.39.9.59 1.41.59.51 0 1.02-.2 1.41-.59l7.78-7.78 2.81-2.81c.8-.78.8-2.07 0-2.86zM5.41 20L4 18.59l7.72-7.72 1.47 1.35L5.41 20z\"/>\n",
              "  </svg>\n",
              "      </button>\n",
              "      \n",
              "  <style>\n",
              "    .colab-df-container {\n",
              "      display:flex;\n",
              "      flex-wrap:wrap;\n",
              "      gap: 12px;\n",
              "    }\n",
              "\n",
              "    .colab-df-convert {\n",
              "      background-color: #E8F0FE;\n",
              "      border: none;\n",
              "      border-radius: 50%;\n",
              "      cursor: pointer;\n",
              "      display: none;\n",
              "      fill: #1967D2;\n",
              "      height: 32px;\n",
              "      padding: 0 0 0 0;\n",
              "      width: 32px;\n",
              "    }\n",
              "\n",
              "    .colab-df-convert:hover {\n",
              "      background-color: #E2EBFA;\n",
              "      box-shadow: 0px 1px 2px rgba(60, 64, 67, 0.3), 0px 1px 3px 1px rgba(60, 64, 67, 0.15);\n",
              "      fill: #174EA6;\n",
              "    }\n",
              "\n",
              "    [theme=dark] .colab-df-convert {\n",
              "      background-color: #3B4455;\n",
              "      fill: #D2E3FC;\n",
              "    }\n",
              "\n",
              "    [theme=dark] .colab-df-convert:hover {\n",
              "      background-color: #434B5C;\n",
              "      box-shadow: 0px 1px 3px 1px rgba(0, 0, 0, 0.15);\n",
              "      filter: drop-shadow(0px 1px 2px rgba(0, 0, 0, 0.3));\n",
              "      fill: #FFFFFF;\n",
              "    }\n",
              "  </style>\n",
              "\n",
              "      <script>\n",
              "        const buttonEl =\n",
              "          document.querySelector('#df-1ee14210-6a61-42d7-8f67-6c9a84ee4a66 button.colab-df-convert');\n",
              "        buttonEl.style.display =\n",
              "          google.colab.kernel.accessAllowed ? 'block' : 'none';\n",
              "\n",
              "        async function convertToInteractive(key) {\n",
              "          const element = document.querySelector('#df-1ee14210-6a61-42d7-8f67-6c9a84ee4a66');\n",
              "          const dataTable =\n",
              "            await google.colab.kernel.invokeFunction('convertToInteractive',\n",
              "                                                     [key], {});\n",
              "          if (!dataTable) return;\n",
              "\n",
              "          const docLinkHtml = 'Like what you see? Visit the ' +\n",
              "            '<a target=\"_blank\" href=https://colab.research.google.com/notebooks/data_table.ipynb>data table notebook</a>'\n",
              "            + ' to learn more about interactive tables.';\n",
              "          element.innerHTML = '';\n",
              "          dataTable['output_type'] = 'display_data';\n",
              "          await google.colab.output.renderOutput(dataTable, element);\n",
              "          const docLink = document.createElement('div');\n",
              "          docLink.innerHTML = docLinkHtml;\n",
              "          element.appendChild(docLink);\n",
              "        }\n",
              "      </script>\n",
              "    </div>\n",
              "  </div>\n",
              "  "
            ]
          },
          "metadata": {},
          "execution_count": 2
        }
      ]
    },
    {
      "cell_type": "markdown",
      "source": [
        "6 dimensions géométriques sur un billet\n",
        "\n",
        "\n",
        "\n",
        "*   length : la longueur du billet (en mm)\n",
        "*  height_left : la hauteur du billet (mesurée sur le côté gauche, en\n",
        "mm)\n",
        "*   height_right : la hauteur du billet (mesurée sur le côté droit, en mm)\n",
        "*  margin_up : la marge entre le bord supérieur du billet et l'image de celui-ci (en mm)\n",
        "*   margin_low : la marge entre le bord inférieur du billet et l'image de\n",
        "celui-ci (en mm)\n",
        "*  diagonal : la diagonale du billet (en mm)\n"
      ],
      "metadata": {
        "id": "EZxauuimYxQS"
      }
    },
    {
      "cell_type": "markdown",
      "source": [
        "# **II. Phase d'exploration des données**\n",
        "L'objectif de l'exploration :\n",
        "\n",
        "\n",
        "*   Comprendre nos données\n",
        "*   Développer une premiere stratégie de modélisation\n",
        "\n",
        "\n"
      ],
      "metadata": {
        "id": "u1GJbpPJY1YQ"
      }
    },
    {
      "cell_type": "markdown",
      "source": [
        "\n",
        "\n",
        "1.  Exploration\n",
        "\n"
      ],
      "metadata": {
        "id": "e3jTfT28dMnw"
      }
    },
    {
      "cell_type": "code",
      "source": [
        "billets.info()"
      ],
      "metadata": {
        "id": "hhMd1-3eOWFk",
        "colab": {
          "base_uri": "https://localhost:8080/"
        },
        "outputId": "08240037-2464-4b3d-89c8-afad92a9abd1"
      },
      "execution_count": 3,
      "outputs": [
        {
          "output_type": "stream",
          "name": "stdout",
          "text": [
            "<class 'pandas.core.frame.DataFrame'>\n",
            "RangeIndex: 1500 entries, 0 to 1499\n",
            "Data columns (total 7 columns):\n",
            " #   Column        Non-Null Count  Dtype  \n",
            "---  ------        --------------  -----  \n",
            " 0   is_genuine    1500 non-null   bool   \n",
            " 1   diagonal      1500 non-null   float64\n",
            " 2   height_left   1500 non-null   float64\n",
            " 3   height_right  1500 non-null   float64\n",
            " 4   margin_low    1463 non-null   float64\n",
            " 5   margin_up     1500 non-null   float64\n",
            " 6   length        1500 non-null   float64\n",
            "dtypes: bool(1), float64(6)\n",
            "memory usage: 71.9 KB\n"
          ]
        }
      ]
    },
    {
      "cell_type": "code",
      "source": [
        "billets.shape"
      ],
      "metadata": {
        "id": "mfl41Z7jRslc",
        "colab": {
          "base_uri": "https://localhost:8080/"
        },
        "outputId": "3af3156b-26ee-4e57-cec0-1de4f5bee4b1"
      },
      "execution_count": 4,
      "outputs": [
        {
          "output_type": "execute_result",
          "data": {
            "text/plain": [
              "(1500, 7)"
            ]
          },
          "metadata": {},
          "execution_count": 4
        }
      ]
    },
    {
      "cell_type": "code",
      "source": [
        "# vérifier les valeurs que prend la colonne is_genuine\n",
        "billets['is_genuine'].unique()"
      ],
      "metadata": {
        "colab": {
          "base_uri": "https://localhost:8080/"
        },
        "id": "bkZsJq2bR573",
        "outputId": "3af4c2e0-906d-4c79-8854-fcdedf13b039"
      },
      "execution_count": 5,
      "outputs": [
        {
          "output_type": "execute_result",
          "data": {
            "text/plain": [
              "array([ True, False])"
            ]
          },
          "metadata": {},
          "execution_count": 5
        }
      ]
    },
    {
      "cell_type": "code",
      "source": [
        "# Encoder la variable is_genuine pour avoir que des variables numériques \n",
        "billets['is_genuine'].replace([False,True], [0,1], inplace=True)\n",
        "billets.head()"
      ],
      "metadata": {
        "id": "iRZvIa6kR-Wk",
        "colab": {
          "base_uri": "https://localhost:8080/",
          "height": 0
        },
        "outputId": "0d079bcb-0f4c-4457-df35-5f3422cccc76"
      },
      "execution_count": 6,
      "outputs": [
        {
          "output_type": "execute_result",
          "data": {
            "text/plain": [
              "   is_genuine  diagonal  height_left  height_right  margin_low  margin_up  \\\n",
              "0           1    171.81       104.86        104.95        4.52       2.89   \n",
              "1           1    171.46       103.36        103.66        3.77       2.99   \n",
              "2           1    172.69       104.48        103.50        4.40       2.94   \n",
              "3           1    171.36       103.91        103.94        3.62       3.01   \n",
              "4           1    171.73       104.28        103.46        4.04       3.48   \n",
              "\n",
              "   length  \n",
              "0  112.83  \n",
              "1  113.09  \n",
              "2  113.16  \n",
              "3  113.51  \n",
              "4  112.54  "
            ],
            "text/html": [
              "\n",
              "  <div id=\"df-1f3b011b-f4bc-4af9-ab76-1beb05e5cc18\">\n",
              "    <div class=\"colab-df-container\">\n",
              "      <div>\n",
              "<style scoped>\n",
              "    .dataframe tbody tr th:only-of-type {\n",
              "        vertical-align: middle;\n",
              "    }\n",
              "\n",
              "    .dataframe tbody tr th {\n",
              "        vertical-align: top;\n",
              "    }\n",
              "\n",
              "    .dataframe thead th {\n",
              "        text-align: right;\n",
              "    }\n",
              "</style>\n",
              "<table border=\"1\" class=\"dataframe\">\n",
              "  <thead>\n",
              "    <tr style=\"text-align: right;\">\n",
              "      <th></th>\n",
              "      <th>is_genuine</th>\n",
              "      <th>diagonal</th>\n",
              "      <th>height_left</th>\n",
              "      <th>height_right</th>\n",
              "      <th>margin_low</th>\n",
              "      <th>margin_up</th>\n",
              "      <th>length</th>\n",
              "    </tr>\n",
              "  </thead>\n",
              "  <tbody>\n",
              "    <tr>\n",
              "      <th>0</th>\n",
              "      <td>1</td>\n",
              "      <td>171.81</td>\n",
              "      <td>104.86</td>\n",
              "      <td>104.95</td>\n",
              "      <td>4.52</td>\n",
              "      <td>2.89</td>\n",
              "      <td>112.83</td>\n",
              "    </tr>\n",
              "    <tr>\n",
              "      <th>1</th>\n",
              "      <td>1</td>\n",
              "      <td>171.46</td>\n",
              "      <td>103.36</td>\n",
              "      <td>103.66</td>\n",
              "      <td>3.77</td>\n",
              "      <td>2.99</td>\n",
              "      <td>113.09</td>\n",
              "    </tr>\n",
              "    <tr>\n",
              "      <th>2</th>\n",
              "      <td>1</td>\n",
              "      <td>172.69</td>\n",
              "      <td>104.48</td>\n",
              "      <td>103.50</td>\n",
              "      <td>4.40</td>\n",
              "      <td>2.94</td>\n",
              "      <td>113.16</td>\n",
              "    </tr>\n",
              "    <tr>\n",
              "      <th>3</th>\n",
              "      <td>1</td>\n",
              "      <td>171.36</td>\n",
              "      <td>103.91</td>\n",
              "      <td>103.94</td>\n",
              "      <td>3.62</td>\n",
              "      <td>3.01</td>\n",
              "      <td>113.51</td>\n",
              "    </tr>\n",
              "    <tr>\n",
              "      <th>4</th>\n",
              "      <td>1</td>\n",
              "      <td>171.73</td>\n",
              "      <td>104.28</td>\n",
              "      <td>103.46</td>\n",
              "      <td>4.04</td>\n",
              "      <td>3.48</td>\n",
              "      <td>112.54</td>\n",
              "    </tr>\n",
              "  </tbody>\n",
              "</table>\n",
              "</div>\n",
              "      <button class=\"colab-df-convert\" onclick=\"convertToInteractive('df-1f3b011b-f4bc-4af9-ab76-1beb05e5cc18')\"\n",
              "              title=\"Convert this dataframe to an interactive table.\"\n",
              "              style=\"display:none;\">\n",
              "        \n",
              "  <svg xmlns=\"http://www.w3.org/2000/svg\" height=\"24px\"viewBox=\"0 0 24 24\"\n",
              "       width=\"24px\">\n",
              "    <path d=\"M0 0h24v24H0V0z\" fill=\"none\"/>\n",
              "    <path d=\"M18.56 5.44l.94 2.06.94-2.06 2.06-.94-2.06-.94-.94-2.06-.94 2.06-2.06.94zm-11 1L8.5 8.5l.94-2.06 2.06-.94-2.06-.94L8.5 2.5l-.94 2.06-2.06.94zm10 10l.94 2.06.94-2.06 2.06-.94-2.06-.94-.94-2.06-.94 2.06-2.06.94z\"/><path d=\"M17.41 7.96l-1.37-1.37c-.4-.4-.92-.59-1.43-.59-.52 0-1.04.2-1.43.59L10.3 9.45l-7.72 7.72c-.78.78-.78 2.05 0 2.83L4 21.41c.39.39.9.59 1.41.59.51 0 1.02-.2 1.41-.59l7.78-7.78 2.81-2.81c.8-.78.8-2.07 0-2.86zM5.41 20L4 18.59l7.72-7.72 1.47 1.35L5.41 20z\"/>\n",
              "  </svg>\n",
              "      </button>\n",
              "      \n",
              "  <style>\n",
              "    .colab-df-container {\n",
              "      display:flex;\n",
              "      flex-wrap:wrap;\n",
              "      gap: 12px;\n",
              "    }\n",
              "\n",
              "    .colab-df-convert {\n",
              "      background-color: #E8F0FE;\n",
              "      border: none;\n",
              "      border-radius: 50%;\n",
              "      cursor: pointer;\n",
              "      display: none;\n",
              "      fill: #1967D2;\n",
              "      height: 32px;\n",
              "      padding: 0 0 0 0;\n",
              "      width: 32px;\n",
              "    }\n",
              "\n",
              "    .colab-df-convert:hover {\n",
              "      background-color: #E2EBFA;\n",
              "      box-shadow: 0px 1px 2px rgba(60, 64, 67, 0.3), 0px 1px 3px 1px rgba(60, 64, 67, 0.15);\n",
              "      fill: #174EA6;\n",
              "    }\n",
              "\n",
              "    [theme=dark] .colab-df-convert {\n",
              "      background-color: #3B4455;\n",
              "      fill: #D2E3FC;\n",
              "    }\n",
              "\n",
              "    [theme=dark] .colab-df-convert:hover {\n",
              "      background-color: #434B5C;\n",
              "      box-shadow: 0px 1px 3px 1px rgba(0, 0, 0, 0.15);\n",
              "      filter: drop-shadow(0px 1px 2px rgba(0, 0, 0, 0.3));\n",
              "      fill: #FFFFFF;\n",
              "    }\n",
              "  </style>\n",
              "\n",
              "      <script>\n",
              "        const buttonEl =\n",
              "          document.querySelector('#df-1f3b011b-f4bc-4af9-ab76-1beb05e5cc18 button.colab-df-convert');\n",
              "        buttonEl.style.display =\n",
              "          google.colab.kernel.accessAllowed ? 'block' : 'none';\n",
              "\n",
              "        async function convertToInteractive(key) {\n",
              "          const element = document.querySelector('#df-1f3b011b-f4bc-4af9-ab76-1beb05e5cc18');\n",
              "          const dataTable =\n",
              "            await google.colab.kernel.invokeFunction('convertToInteractive',\n",
              "                                                     [key], {});\n",
              "          if (!dataTable) return;\n",
              "\n",
              "          const docLinkHtml = 'Like what you see? Visit the ' +\n",
              "            '<a target=\"_blank\" href=https://colab.research.google.com/notebooks/data_table.ipynb>data table notebook</a>'\n",
              "            + ' to learn more about interactive tables.';\n",
              "          element.innerHTML = '';\n",
              "          dataTable['output_type'] = 'display_data';\n",
              "          await google.colab.output.renderOutput(dataTable, element);\n",
              "          const docLink = document.createElement('div');\n",
              "          docLink.innerHTML = docLinkHtml;\n",
              "          element.appendChild(docLink);\n",
              "        }\n",
              "      </script>\n",
              "    </div>\n",
              "  </div>\n",
              "  "
            ]
          },
          "metadata": {},
          "execution_count": 6
        }
      ]
    },
    {
      "cell_type": "markdown",
      "source": [
        "\n",
        "\n",
        "*   0 = faux\n",
        "*   1 = vrai\n"
      ],
      "metadata": {
        "id": "TGEfrRzuqgq3"
      }
    },
    {
      "cell_type": "code",
      "source": [
        "# afficher les moyennes de variables\n",
        "billets.mean()"
      ],
      "metadata": {
        "colab": {
          "base_uri": "https://localhost:8080/"
        },
        "id": "Lim1ZKvfqdf-",
        "outputId": "ff8dd0c9-78e6-49d7-8bc5-a817f871e84c"
      },
      "execution_count": 7,
      "outputs": [
        {
          "output_type": "execute_result",
          "data": {
            "text/plain": [
              "is_genuine        0.666667\n",
              "diagonal        171.958440\n",
              "height_left     104.029533\n",
              "height_right    103.920307\n",
              "margin_low        4.485967\n",
              "margin_up         3.151473\n",
              "length          112.678500\n",
              "dtype: float64"
            ]
          },
          "metadata": {},
          "execution_count": 7
        }
      ]
    },
    {
      "cell_type": "markdown",
      "source": [
        "\n",
        "2.   Exploration des valeurs aberrantes/atypiques de la variable margin_up\n",
        "\n"
      ],
      "metadata": {
        "id": "GgSlOIwkxrSz"
      }
    },
    {
      "cell_type": "code",
      "source": [
        "# Vérification des valeurs manquantes\n",
        "billets.isnull().sum()"
      ],
      "metadata": {
        "id": "BSDiZGEISBA1",
        "colab": {
          "base_uri": "https://localhost:8080/"
        },
        "outputId": "651a6615-72f9-429d-a437-25e73f52deb7"
      },
      "execution_count": 8,
      "outputs": [
        {
          "output_type": "execute_result",
          "data": {
            "text/plain": [
              "is_genuine       0\n",
              "diagonal         0\n",
              "height_left      0\n",
              "height_right     0\n",
              "margin_low      37\n",
              "margin_up        0\n",
              "length           0\n",
              "dtype: int64"
            ]
          },
          "metadata": {},
          "execution_count": 8
        }
      ]
    },
    {
      "cell_type": "markdown",
      "source": [
        "Il y a 37 valeurs manquantes pour la variable margin_low"
      ],
      "metadata": {
        "id": "Wzq0MyY9qyJi"
      }
    },
    {
      "cell_type": "code",
      "source": [
        "plt.figure(figsize=(8, 8))\n",
        "sns.set(style=\"whitegrid\")\n",
        "plt.subplot(221)\n",
        "sns.boxplot(data=billets,  y='margin_up')"
      ],
      "metadata": {
        "colab": {
          "base_uri": "https://localhost:8080/",
          "height": 0
        },
        "id": "lHAoDK33xcFF",
        "outputId": "3aace12a-e284-4a10-dc7f-e0d633072af3"
      },
      "execution_count": 9,
      "outputs": [
        {
          "output_type": "execute_result",
          "data": {
            "text/plain": [
              "<matplotlib.axes._subplots.AxesSubplot at 0x7f636c6f0040>"
            ]
          },
          "metadata": {},
          "execution_count": 9
        },
        {
          "output_type": "display_data",
          "data": {
            "text/plain": [
              "<Figure size 576x576 with 1 Axes>"
            ],
            "image/png": "[encoded data removed]"
          },
          "metadata": {
            "needs_background": "light"
          }
        }
      ]
    },
    {
      "cell_type": "code",
      "source": [
        "# Afficher des boxplot\n",
        "plt.figure(figsize=(12, 8))\n",
        "sns.set(style=\"whitegrid\")\n",
        "plt.subplot(221)\n",
        "sns.boxplot(data=billets,y='diagonal')\n",
        "plt.subplot(222)\n",
        "sns.boxplot(data=billets, y='height_left')\n",
        "plt.subplot(223)\n",
        "sns.boxplot(data=billets, y='height_right')\n",
        "plt.subplot(224)\n",
        "sns.boxplot(data=billets,y='margin_low')"
      ],
      "metadata": {
        "id": "X_vfQ8NXSFWN",
        "colab": {
          "base_uri": "https://localhost:8080/",
          "height": 0
        },
        "outputId": "a36dc374-bb12-40fd-8b4a-c43f36a3d1d5"
      },
      "execution_count": 10,
      "outputs": [
        {
          "output_type": "execute_result",
          "data": {
            "text/plain": [
              "<matplotlib.axes._subplots.AxesSubplot at 0x7f636c108c40>"
            ]
          },
          "metadata": {},
          "execution_count": 10
        },
        {
          "output_type": "display_data",
          "data": {
            "text/plain": [
              "<Figure size 864x576 with 4 Axes>"
            ],
            "image/png": "[encoded data removed]"
          },
          "metadata": {}
        }
      ]
    },
    {
      "cell_type": "code",
      "source": [
        "plt.figure(figsize=(12, 8))\n",
        "sns.set(style=\"whitegrid\")\n",
        "plt.subplot(221)\n",
        "sns.boxplot(data=billets,  y='margin_up')\n",
        "plt.subplot(222)\n",
        "sns.boxplot(data=billets,  y='length')"
      ],
      "metadata": {
        "id": "7bnjM1MuaN4p",
        "colab": {
          "base_uri": "https://localhost:8080/",
          "height": 0
        },
        "outputId": "79b35c23-223c-44a8-e828-fdca6af6abda"
      },
      "execution_count": 11,
      "outputs": [
        {
          "output_type": "execute_result",
          "data": {
            "text/plain": [
              "<matplotlib.axes._subplots.AxesSubplot at 0x7f636c05fa30>"
            ]
          },
          "metadata": {},
          "execution_count": 11
        },
        {
          "output_type": "display_data",
          "data": {
            "text/plain": [
              "<Figure size 864x576 with 2 Axes>"
            ],
            "image/png": "[encoded data removed]"
          },
          "metadata": {}
        }
      ]
    },
    {
      "cell_type": "markdown",
      "source": [
        "\n",
        "3.   Exploration de la matrice des correlations\n",
        "\n"
      ],
      "metadata": {
        "id": "8GY6DZyayUeY"
      }
    },
    {
      "cell_type": "code",
      "source": [
        "# Afficher la matrice de corrélation\n",
        "matrice_correlation = billets.corr()\n",
        "matrice_correlation.head(10)"
      ],
      "metadata": {
        "colab": {
          "base_uri": "https://localhost:8080/",
          "height": 0
        },
        "id": "iXeuCXepahh6",
        "outputId": "e30bb30f-c172-44b6-ed2d-f90e92c7d148"
      },
      "execution_count": 12,
      "outputs": [
        {
          "output_type": "execute_result",
          "data": {
            "text/plain": [
              "              is_genuine  diagonal  height_left  height_right  margin_low  \\\n",
              "is_genuine      1.000000  0.132756    -0.379833     -0.485092   -0.783032   \n",
              "diagonal        0.132756  1.000000     0.019472     -0.024492   -0.111534   \n",
              "height_left    -0.379833  0.019472     1.000000      0.242279    0.302643   \n",
              "height_right   -0.485092 -0.024492     0.242279      1.000000    0.391085   \n",
              "margin_low     -0.783032 -0.111534     0.302643      0.391085    1.000000   \n",
              "margin_up      -0.606262 -0.055649     0.246522      0.307005    0.431606   \n",
              "length          0.849285  0.097587    -0.320863     -0.401751   -0.666753   \n",
              "\n",
              "              margin_up    length  \n",
              "is_genuine    -0.606262  0.849285  \n",
              "diagonal      -0.055649  0.097587  \n",
              "height_left    0.246522 -0.320863  \n",
              "height_right   0.307005 -0.401751  \n",
              "margin_low     0.431606 -0.666753  \n",
              "margin_up      1.000000 -0.520575  \n",
              "length        -0.520575  1.000000  "
            ],
            "text/html": [
              "\n",
              "  <div id=\"df-930bcf1b-a758-4908-9aa9-13ca0dc27929\">\n",
              "    <div class=\"colab-df-container\">\n",
              "      <div>\n",
              "<style scoped>\n",
              "    .dataframe tbody tr th:only-of-type {\n",
              "        vertical-align: middle;\n",
              "    }\n",
              "\n",
              "    .dataframe tbody tr th {\n",
              "        vertical-align: top;\n",
              "    }\n",
              "\n",
              "    .dataframe thead th {\n",
              "        text-align: right;\n",
              "    }\n",
              "</style>\n",
              "<table border=\"1\" class=\"dataframe\">\n",
              "  <thead>\n",
              "    <tr style=\"text-align: right;\">\n",
              "      <th></th>\n",
              "      <th>is_genuine</th>\n",
              "      <th>diagonal</th>\n",
              "      <th>height_left</th>\n",
              "      <th>height_right</th>\n",
              "      <th>margin_low</th>\n",
              "      <th>margin_up</th>\n",
              "      <th>length</th>\n",
              "    </tr>\n",
              "  </thead>\n",
              "  <tbody>\n",
              "    <tr>\n",
              "      <th>is_genuine</th>\n",
              "      <td>1.000000</td>\n",
              "      <td>0.132756</td>\n",
              "      <td>-0.379833</td>\n",
              "      <td>-0.485092</td>\n",
              "      <td>-0.783032</td>\n",
              "      <td>-0.606262</td>\n",
              "      <td>0.849285</td>\n",
              "    </tr>\n",
              "    <tr>\n",
              "      <th>diagonal</th>\n",
              "      <td>0.132756</td>\n",
              "      <td>1.000000</td>\n",
              "      <td>0.019472</td>\n",
              "      <td>-0.024492</td>\n",
              "      <td>-0.111534</td>\n",
              "      <td>-0.055649</td>\n",
              "      <td>0.097587</td>\n",
              "    </tr>\n",
              "    <tr>\n",
              "      <th>height_left</th>\n",
              "      <td>-0.379833</td>\n",
              "      <td>0.019472</td>\n",
              "      <td>1.000000</td>\n",
              "      <td>0.242279</td>\n",
              "      <td>0.302643</td>\n",
              "      <td>0.246522</td>\n",
              "      <td>-0.320863</td>\n",
              "    </tr>\n",
              "    <tr>\n",
              "      <th>height_right</th>\n",
              "      <td>-0.485092</td>\n",
              "      <td>-0.024492</td>\n",
              "      <td>0.242279</td>\n",
              "      <td>1.000000</td>\n",
              "      <td>0.391085</td>\n",
              "      <td>0.307005</td>\n",
              "      <td>-0.401751</td>\n",
              "    </tr>\n",
              "    <tr>\n",
              "      <th>margin_low</th>\n",
              "      <td>-0.783032</td>\n",
              "      <td>-0.111534</td>\n",
              "      <td>0.302643</td>\n",
              "      <td>0.391085</td>\n",
              "      <td>1.000000</td>\n",
              "      <td>0.431606</td>\n",
              "      <td>-0.666753</td>\n",
              "    </tr>\n",
              "    <tr>\n",
              "      <th>margin_up</th>\n",
              "      <td>-0.606262</td>\n",
              "      <td>-0.055649</td>\n",
              "      <td>0.246522</td>\n",
              "      <td>0.307005</td>\n",
              "      <td>0.431606</td>\n",
              "      <td>1.000000</td>\n",
              "      <td>-0.520575</td>\n",
              "    </tr>\n",
              "    <tr>\n",
              "      <th>length</th>\n",
              "      <td>0.849285</td>\n",
              "      <td>0.097587</td>\n",
              "      <td>-0.320863</td>\n",
              "      <td>-0.401751</td>\n",
              "      <td>-0.666753</td>\n",
              "      <td>-0.520575</td>\n",
              "      <td>1.000000</td>\n",
              "    </tr>\n",
              "  </tbody>\n",
              "</table>\n",
              "</div>\n",
              "      <button class=\"colab-df-convert\" onclick=\"convertToInteractive('df-930bcf1b-a758-4908-9aa9-13ca0dc27929')\"\n",
              "              title=\"Convert this dataframe to an interactive table.\"\n",
              "              style=\"display:none;\">\n",
              "        \n",
              "  <svg xmlns=\"http://www.w3.org/2000/svg\" height=\"24px\"viewBox=\"0 0 24 24\"\n",
              "       width=\"24px\">\n",
              "    <path d=\"M0 0h24v24H0V0z\" fill=\"none\"/>\n",
              "    <path d=\"M18.56 5.44l.94 2.06.94-2.06 2.06-.94-2.06-.94-.94-2.06-.94 2.06-2.06.94zm-11 1L8.5 8.5l.94-2.06 2.06-.94-2.06-.94L8.5 2.5l-.94 2.06-2.06.94zm10 10l.94 2.06.94-2.06 2.06-.94-2.06-.94-.94-2.06-.94 2.06-2.06.94z\"/><path d=\"M17.41 7.96l-1.37-1.37c-.4-.4-.92-.59-1.43-.59-.52 0-1.04.2-1.43.59L10.3 9.45l-7.72 7.72c-.78.78-.78 2.05 0 2.83L4 21.41c.39.39.9.59 1.41.59.51 0 1.02-.2 1.41-.59l7.78-7.78 2.81-2.81c.8-.78.8-2.07 0-2.86zM5.41 20L4 18.59l7.72-7.72 1.47 1.35L5.41 20z\"/>\n",
              "  </svg>\n",
              "      </button>\n",
              "      \n",
              "  <style>\n",
              "    .colab-df-container {\n",
              "      display:flex;\n",
              "      flex-wrap:wrap;\n",
              "      gap: 12px;\n",
              "    }\n",
              "\n",
              "    .colab-df-convert {\n",
              "      background-color: #E8F0FE;\n",
              "      border: none;\n",
              "      border-radius: 50%;\n",
              "      cursor: pointer;\n",
              "      display: none;\n",
              "      fill: #1967D2;\n",
              "      height: 32px;\n",
              "      padding: 0 0 0 0;\n",
              "      width: 32px;\n",
              "    }\n",
              "\n",
              "    .colab-df-convert:hover {\n",
              "      background-color: #E2EBFA;\n",
              "      box-shadow: 0px 1px 2px rgba(60, 64, 67, 0.3), 0px 1px 3px 1px rgba(60, 64, 67, 0.15);\n",
              "      fill: #174EA6;\n",
              "    }\n",
              "\n",
              "    [theme=dark] .colab-df-convert {\n",
              "      background-color: #3B4455;\n",
              "      fill: #D2E3FC;\n",
              "    }\n",
              "\n",
              "    [theme=dark] .colab-df-convert:hover {\n",
              "      background-color: #434B5C;\n",
              "      box-shadow: 0px 1px 3px 1px rgba(0, 0, 0, 0.15);\n",
              "      filter: drop-shadow(0px 1px 2px rgba(0, 0, 0, 0.3));\n",
              "      fill: #FFFFFF;\n",
              "    }\n",
              "  </style>\n",
              "\n",
              "      <script>\n",
              "        const buttonEl =\n",
              "          document.querySelector('#df-930bcf1b-a758-4908-9aa9-13ca0dc27929 button.colab-df-convert');\n",
              "        buttonEl.style.display =\n",
              "          google.colab.kernel.accessAllowed ? 'block' : 'none';\n",
              "\n",
              "        async function convertToInteractive(key) {\n",
              "          const element = document.querySelector('#df-930bcf1b-a758-4908-9aa9-13ca0dc27929');\n",
              "          const dataTable =\n",
              "            await google.colab.kernel.invokeFunction('convertToInteractive',\n",
              "                                                     [key], {});\n",
              "          if (!dataTable) return;\n",
              "\n",
              "          const docLinkHtml = 'Like what you see? Visit the ' +\n",
              "            '<a target=\"_blank\" href=https://colab.research.google.com/notebooks/data_table.ipynb>data table notebook</a>'\n",
              "            + ' to learn more about interactive tables.';\n",
              "          element.innerHTML = '';\n",
              "          dataTable['output_type'] = 'display_data';\n",
              "          await google.colab.output.renderOutput(dataTable, element);\n",
              "          const docLink = document.createElement('div');\n",
              "          docLink.innerHTML = docLinkHtml;\n",
              "          element.appendChild(docLink);\n",
              "        }\n",
              "      </script>\n",
              "    </div>\n",
              "  </div>\n",
              "  "
            ]
          },
          "metadata": {},
          "execution_count": 12
        }
      ]
    },
    {
      "cell_type": "code",
      "source": [
        "# heatmap de corrélations entre les différentes variables\n",
        "plt.figure(figsize=(5, 4))\n",
        "sns.heatmap(matrice_correlation.corr(),cmap='plasma', annot=True)\n",
        "plt.title('Corrélation entre les différentes variables')"
      ],
      "metadata": {
        "colab": {
          "base_uri": "https://localhost:8080/",
          "height": 0
        },
        "id": "K1yFG23Daoea",
        "outputId": "64306a50-77cd-41b9-f69c-cde1bd250b1f"
      },
      "execution_count": 13,
      "outputs": [
        {
          "output_type": "execute_result",
          "data": {
            "text/plain": [
              "Text(0.5, 1.0, 'Corrélation entre les différentes variables')"
            ]
          },
          "metadata": {},
          "execution_count": 13
        },
        {
          "output_type": "display_data",
          "data": {
            "text/plain": [
              "<Figure size 360x288 with 2 Axes>"
            ],
            "image/png": "[encoded data removed]"
          },
          "metadata": {}
        }
      ]
    },
    {
      "cell_type": "code",
      "source": [
        "billets.describe()"
      ],
      "metadata": {
        "colab": {
          "base_uri": "https://localhost:8080/",
          "height": 0
        },
        "id": "4ypHUeYQqrEY",
        "outputId": "69dc7040-1121-45b5-e16b-061a9b877c0f"
      },
      "execution_count": 14,
      "outputs": [
        {
          "output_type": "execute_result",
          "data": {
            "text/plain": [
              "        is_genuine     diagonal  height_left  height_right   margin_low  \\\n",
              "count  1500.000000  1500.000000  1500.000000   1500.000000  1463.000000   \n",
              "mean      0.666667   171.958440   104.029533    103.920307     4.485967   \n",
              "std       0.471562     0.305195     0.299462      0.325627     0.663813   \n",
              "min       0.000000   171.040000   103.140000    102.820000     2.980000   \n",
              "25%       0.000000   171.750000   103.820000    103.710000     4.015000   \n",
              "50%       1.000000   171.960000   104.040000    103.920000     4.310000   \n",
              "75%       1.000000   172.170000   104.230000    104.150000     4.870000   \n",
              "max       1.000000   173.010000   104.880000    104.950000     6.900000   \n",
              "\n",
              "         margin_up      length  \n",
              "count  1500.000000  1500.00000  \n",
              "mean      3.151473   112.67850  \n",
              "std       0.231813     0.87273  \n",
              "min       2.270000   109.49000  \n",
              "25%       2.990000   112.03000  \n",
              "50%       3.140000   112.96000  \n",
              "75%       3.310000   113.34000  \n",
              "max       3.910000   114.44000  "
            ],
            "text/html": [
              "\n",
              "  <div id=\"df-0269a81f-17e8-4d9a-998d-2a96f99b6424\">\n",
              "    <div class=\"colab-df-container\">\n",
              "      <div>\n",
              "<style scoped>\n",
              "    .dataframe tbody tr th:only-of-type {\n",
              "        vertical-align: middle;\n",
              "    }\n",
              "\n",
              "    .dataframe tbody tr th {\n",
              "        vertical-align: top;\n",
              "    }\n",
              "\n",
              "    .dataframe thead th {\n",
              "        text-align: right;\n",
              "    }\n",
              "</style>\n",
              "<table border=\"1\" class=\"dataframe\">\n",
              "  <thead>\n",
              "    <tr style=\"text-align: right;\">\n",
              "      <th></th>\n",
              "      <th>is_genuine</th>\n",
              "      <th>diagonal</th>\n",
              "      <th>height_left</th>\n",
              "      <th>height_right</th>\n",
              "      <th>margin_low</th>\n",
              "      <th>margin_up</th>\n",
              "      <th>length</th>\n",
              "    </tr>\n",
              "  </thead>\n",
              "  <tbody>\n",
              "    <tr>\n",
              "      <th>count</th>\n",
              "      <td>1500.000000</td>\n",
              "      <td>1500.000000</td>\n",
              "      <td>1500.000000</td>\n",
              "      <td>1500.000000</td>\n",
              "      <td>1463.000000</td>\n",
              "      <td>1500.000000</td>\n",
              "      <td>1500.00000</td>\n",
              "    </tr>\n",
              "    <tr>\n",
              "      <th>mean</th>\n",
              "      <td>0.666667</td>\n",
              "      <td>171.958440</td>\n",
              "      <td>104.029533</td>\n",
              "      <td>103.920307</td>\n",
              "      <td>4.485967</td>\n",
              "      <td>3.151473</td>\n",
              "      <td>112.67850</td>\n",
              "    </tr>\n",
              "    <tr>\n",
              "      <th>std</th>\n",
              "      <td>0.471562</td>\n",
              "      <td>0.305195</td>\n",
              "      <td>0.299462</td>\n",
              "      <td>0.325627</td>\n",
              "      <td>0.663813</td>\n",
              "      <td>0.231813</td>\n",
              "      <td>0.87273</td>\n",
              "    </tr>\n",
              "    <tr>\n",
              "      <th>min</th>\n",
              "      <td>0.000000</td>\n",
              "      <td>171.040000</td>\n",
              "      <td>103.140000</td>\n",
              "      <td>102.820000</td>\n",
              "      <td>2.980000</td>\n",
              "      <td>2.270000</td>\n",
              "      <td>109.49000</td>\n",
              "    </tr>\n",
              "    <tr>\n",
              "      <th>25%</th>\n",
              "      <td>0.000000</td>\n",
              "      <td>171.750000</td>\n",
              "      <td>103.820000</td>\n",
              "      <td>103.710000</td>\n",
              "      <td>4.015000</td>\n",
              "      <td>2.990000</td>\n",
              "      <td>112.03000</td>\n",
              "    </tr>\n",
              "    <tr>\n",
              "      <th>50%</th>\n",
              "      <td>1.000000</td>\n",
              "      <td>171.960000</td>\n",
              "      <td>104.040000</td>\n",
              "      <td>103.920000</td>\n",
              "      <td>4.310000</td>\n",
              "      <td>3.140000</td>\n",
              "      <td>112.96000</td>\n",
              "    </tr>\n",
              "    <tr>\n",
              "      <th>75%</th>\n",
              "      <td>1.000000</td>\n",
              "      <td>172.170000</td>\n",
              "      <td>104.230000</td>\n",
              "      <td>104.150000</td>\n",
              "      <td>4.870000</td>\n",
              "      <td>3.310000</td>\n",
              "      <td>113.34000</td>\n",
              "    </tr>\n",
              "    <tr>\n",
              "      <th>max</th>\n",
              "      <td>1.000000</td>\n",
              "      <td>173.010000</td>\n",
              "      <td>104.880000</td>\n",
              "      <td>104.950000</td>\n",
              "      <td>6.900000</td>\n",
              "      <td>3.910000</td>\n",
              "      <td>114.44000</td>\n",
              "    </tr>\n",
              "  </tbody>\n",
              "</table>\n",
              "</div>\n",
              "      <button class=\"colab-df-convert\" onclick=\"convertToInteractive('df-0269a81f-17e8-4d9a-998d-2a96f99b6424')\"\n",
              "              title=\"Convert this dataframe to an interactive table.\"\n",
              "              style=\"display:none;\">\n",
              "        \n",
              "  <svg xmlns=\"http://www.w3.org/2000/svg\" height=\"24px\"viewBox=\"0 0 24 24\"\n",
              "       width=\"24px\">\n",
              "    <path d=\"M0 0h24v24H0V0z\" fill=\"none\"/>\n",
              "    <path d=\"M18.56 5.44l.94 2.06.94-2.06 2.06-.94-2.06-.94-.94-2.06-.94 2.06-2.06.94zm-11 1L8.5 8.5l.94-2.06 2.06-.94-2.06-.94L8.5 2.5l-.94 2.06-2.06.94zm10 10l.94 2.06.94-2.06 2.06-.94-2.06-.94-.94-2.06-.94 2.06-2.06.94z\"/><path d=\"M17.41 7.96l-1.37-1.37c-.4-.4-.92-.59-1.43-.59-.52 0-1.04.2-1.43.59L10.3 9.45l-7.72 7.72c-.78.78-.78 2.05 0 2.83L4 21.41c.39.39.9.59 1.41.59.51 0 1.02-.2 1.41-.59l7.78-7.78 2.81-2.81c.8-.78.8-2.07 0-2.86zM5.41 20L4 18.59l7.72-7.72 1.47 1.35L5.41 20z\"/>\n",
              "  </svg>\n",
              "      </button>\n",
              "      \n",
              "  <style>\n",
              "    .colab-df-container {\n",
              "      display:flex;\n",
              "      flex-wrap:wrap;\n",
              "      gap: 12px;\n",
              "    }\n",
              "\n",
              "    .colab-df-convert {\n",
              "      background-color: #E8F0FE;\n",
              "      border: none;\n",
              "      border-radius: 50%;\n",
              "      cursor: pointer;\n",
              "      display: none;\n",
              "      fill: #1967D2;\n",
              "      height: 32px;\n",
              "      padding: 0 0 0 0;\n",
              "      width: 32px;\n",
              "    }\n",
              "\n",
              "    .colab-df-convert:hover {\n",
              "      background-color: #E2EBFA;\n",
              "      box-shadow: 0px 1px 2px rgba(60, 64, 67, 0.3), 0px 1px 3px 1px rgba(60, 64, 67, 0.15);\n",
              "      fill: #174EA6;\n",
              "    }\n",
              "\n",
              "    [theme=dark] .colab-df-convert {\n",
              "      background-color: #3B4455;\n",
              "      fill: #D2E3FC;\n",
              "    }\n",
              "\n",
              "    [theme=dark] .colab-df-convert:hover {\n",
              "      background-color: #434B5C;\n",
              "      box-shadow: 0px 1px 3px 1px rgba(0, 0, 0, 0.15);\n",
              "      filter: drop-shadow(0px 1px 2px rgba(0, 0, 0, 0.3));\n",
              "      fill: #FFFFFF;\n",
              "    }\n",
              "  </style>\n",
              "\n",
              "      <script>\n",
              "        const buttonEl =\n",
              "          document.querySelector('#df-0269a81f-17e8-4d9a-998d-2a96f99b6424 button.colab-df-convert');\n",
              "        buttonEl.style.display =\n",
              "          google.colab.kernel.accessAllowed ? 'block' : 'none';\n",
              "\n",
              "        async function convertToInteractive(key) {\n",
              "          const element = document.querySelector('#df-0269a81f-17e8-4d9a-998d-2a96f99b6424');\n",
              "          const dataTable =\n",
              "            await google.colab.kernel.invokeFunction('convertToInteractive',\n",
              "                                                     [key], {});\n",
              "          if (!dataTable) return;\n",
              "\n",
              "          const docLinkHtml = 'Like what you see? Visit the ' +\n",
              "            '<a target=\"_blank\" href=https://colab.research.google.com/notebooks/data_table.ipynb>data table notebook</a>'\n",
              "            + ' to learn more about interactive tables.';\n",
              "          element.innerHTML = '';\n",
              "          dataTable['output_type'] = 'display_data';\n",
              "          await google.colab.output.renderOutput(dataTable, element);\n",
              "          const docLink = document.createElement('div');\n",
              "          docLink.innerHTML = docLinkHtml;\n",
              "          element.appendChild(docLink);\n",
              "        }\n",
              "      </script>\n",
              "    </div>\n",
              "  </div>\n",
              "  "
            ]
          },
          "metadata": {},
          "execution_count": 14
        }
      ]
    },
    {
      "cell_type": "code",
      "source": [
        "# afficher les taux de faux billets et des vrais billets\n",
        "billets[['is_genuine']].value_counts().plot.pie(autopct = lambda x: str(round(x, 2)) + '%')\n",
        "plt.title('Taux des vrais et faux billets')"
      ],
      "metadata": {
        "colab": {
          "base_uri": "https://localhost:8080/",
          "height": 0
        },
        "id": "tlvOy4QPbJ0_",
        "outputId": "228d1866-048c-4cc3-d69f-5e127c4a9cf3"
      },
      "execution_count": 15,
      "outputs": [
        {
          "output_type": "execute_result",
          "data": {
            "text/plain": [
              "Text(0.5, 1.0, 'Taux des vrais et faux billets')"
            ]
          },
          "metadata": {},
          "execution_count": 15
        },
        {
          "output_type": "display_data",
          "data": {
            "text/plain": [
              "<Figure size 432x288 with 1 Axes>"
            ],
            "image/png": "[encoded data removed]"
          },
          "metadata": {}
        }
      ]
    },
    {
      "cell_type": "markdown",
      "source": [
        "\n",
        "CONCLUSION\n",
        "*   ID : is_genuine\n",
        "*   Nous avons 1 500 données et 7 colonnes\n",
        "*   Nous avons 37 données nulles\n",
        "*   Nous avons 6 variables quantitatives et 1 variable qualitative\n",
        "\n",
        "\n",
        "\n",
        "\n",
        "\n"
      ],
      "metadata": {
        "id": "Q7uhvE97Znxq"
      }
    },
    {
      "cell_type": "markdown",
      "source": [
        "Il y a des données manquantes, nous allons donc devoir faire une régression linéaire pour les combler et ne pas perdre d'informations."
      ],
      "metadata": {
        "id": "8uyXmTycc2LX"
      }
    },
    {
      "cell_type": "markdown",
      "source": [
        "# **III. Regression linéaire : combler les valeurs manquantes**\n",
        "Nous allons créer deuxx DF : \n",
        "*   Dataset training : un DF avec sans valeur manquantes que nous utiliserons pour notre régression liniéaire\n",
        "*   Dataset testing :  un dataframe avec uniquement les valeurs manquantes pour appliquer notre modèle\n",
        "\n",
        "\n"
      ],
      "metadata": {
        "id": "C9QeDnZtw8L-"
      }
    },
    {
      "cell_type": "markdown",
      "source": [
        "\n",
        "\n",
        "1.   Création de deux DF\n",
        "\n"
      ],
      "metadata": {
        "id": "AoIkWkftxeHv"
      }
    },
    {
      "cell_type": "code",
      "source": [
        "# dataset sans les valeurs manquantes\n",
        "df_training  = billets.dropna()\n",
        "df_training.head()"
      ],
      "metadata": {
        "colab": {
          "base_uri": "https://localhost:8080/",
          "height": 206
        },
        "id": "0fxrgPQWvOVR",
        "outputId": "006d6578-5310-4c46-c78b-f43ecded217b"
      },
      "execution_count": 16,
      "outputs": [
        {
          "output_type": "execute_result",
          "data": {
            "text/plain": [
              "   is_genuine  diagonal  height_left  height_right  margin_low  margin_up  \\\n",
              "0           1    171.81       104.86        104.95        4.52       2.89   \n",
              "1           1    171.46       103.36        103.66        3.77       2.99   \n",
              "2           1    172.69       104.48        103.50        4.40       2.94   \n",
              "3           1    171.36       103.91        103.94        3.62       3.01   \n",
              "4           1    171.73       104.28        103.46        4.04       3.48   \n",
              "\n",
              "   length  \n",
              "0  112.83  \n",
              "1  113.09  \n",
              "2  113.16  \n",
              "3  113.51  \n",
              "4  112.54  "
            ],
            "text/html": [
              "\n",
              "  <div id=\"df-bd1ea4fe-585d-4359-a5e3-af91ea3d42e7\">\n",
              "    <div class=\"colab-df-container\">\n",
              "      <div>\n",
              "<style scoped>\n",
              "    .dataframe tbody tr th:only-of-type {\n",
              "        vertical-align: middle;\n",
              "    }\n",
              "\n",
              "    .dataframe tbody tr th {\n",
              "        vertical-align: top;\n",
              "    }\n",
              "\n",
              "    .dataframe thead th {\n",
              "        text-align: right;\n",
              "    }\n",
              "</style>\n",
              "<table border=\"1\" class=\"dataframe\">\n",
              "  <thead>\n",
              "    <tr style=\"text-align: right;\">\n",
              "      <th></th>\n",
              "      <th>is_genuine</th>\n",
              "      <th>diagonal</th>\n",
              "      <th>height_left</th>\n",
              "      <th>height_right</th>\n",
              "      <th>margin_low</th>\n",
              "      <th>margin_up</th>\n",
              "      <th>length</th>\n",
              "    </tr>\n",
              "  </thead>\n",
              "  <tbody>\n",
              "    <tr>\n",
              "      <th>0</th>\n",
              "      <td>1</td>\n",
              "      <td>171.81</td>\n",
              "      <td>104.86</td>\n",
              "      <td>104.95</td>\n",
              "      <td>4.52</td>\n",
              "      <td>2.89</td>\n",
              "      <td>112.83</td>\n",
              "    </tr>\n",
              "    <tr>\n",
              "      <th>1</th>\n",
              "      <td>1</td>\n",
              "      <td>171.46</td>\n",
              "      <td>103.36</td>\n",
              "      <td>103.66</td>\n",
              "      <td>3.77</td>\n",
              "      <td>2.99</td>\n",
              "      <td>113.09</td>\n",
              "    </tr>\n",
              "    <tr>\n",
              "      <th>2</th>\n",
              "      <td>1</td>\n",
              "      <td>172.69</td>\n",
              "      <td>104.48</td>\n",
              "      <td>103.50</td>\n",
              "      <td>4.40</td>\n",
              "      <td>2.94</td>\n",
              "      <td>113.16</td>\n",
              "    </tr>\n",
              "    <tr>\n",
              "      <th>3</th>\n",
              "      <td>1</td>\n",
              "      <td>171.36</td>\n",
              "      <td>103.91</td>\n",
              "      <td>103.94</td>\n",
              "      <td>3.62</td>\n",
              "      <td>3.01</td>\n",
              "      <td>113.51</td>\n",
              "    </tr>\n",
              "    <tr>\n",
              "      <th>4</th>\n",
              "      <td>1</td>\n",
              "      <td>171.73</td>\n",
              "      <td>104.28</td>\n",
              "      <td>103.46</td>\n",
              "      <td>4.04</td>\n",
              "      <td>3.48</td>\n",
              "      <td>112.54</td>\n",
              "    </tr>\n",
              "  </tbody>\n",
              "</table>\n",
              "</div>\n",
              "      <button class=\"colab-df-convert\" onclick=\"convertToInteractive('df-bd1ea4fe-585d-4359-a5e3-af91ea3d42e7')\"\n",
              "              title=\"Convert this dataframe to an interactive table.\"\n",
              "              style=\"display:none;\">\n",
              "        \n",
              "  <svg xmlns=\"http://www.w3.org/2000/svg\" height=\"24px\"viewBox=\"0 0 24 24\"\n",
              "       width=\"24px\">\n",
              "    <path d=\"M0 0h24v24H0V0z\" fill=\"none\"/>\n",
              "    <path d=\"M18.56 5.44l.94 2.06.94-2.06 2.06-.94-2.06-.94-.94-2.06-.94 2.06-2.06.94zm-11 1L8.5 8.5l.94-2.06 2.06-.94-2.06-.94L8.5 2.5l-.94 2.06-2.06.94zm10 10l.94 2.06.94-2.06 2.06-.94-2.06-.94-.94-2.06-.94 2.06-2.06.94z\"/><path d=\"M17.41 7.96l-1.37-1.37c-.4-.4-.92-.59-1.43-.59-.52 0-1.04.2-1.43.59L10.3 9.45l-7.72 7.72c-.78.78-.78 2.05 0 2.83L4 21.41c.39.39.9.59 1.41.59.51 0 1.02-.2 1.41-.59l7.78-7.78 2.81-2.81c.8-.78.8-2.07 0-2.86zM5.41 20L4 18.59l7.72-7.72 1.47 1.35L5.41 20z\"/>\n",
              "  </svg>\n",
              "      </button>\n",
              "      \n",
              "  <style>\n",
              "    .colab-df-container {\n",
              "      display:flex;\n",
              "      flex-wrap:wrap;\n",
              "      gap: 12px;\n",
              "    }\n",
              "\n",
              "    .colab-df-convert {\n",
              "      background-color: #E8F0FE;\n",
              "      border: none;\n",
              "      border-radius: 50%;\n",
              "      cursor: pointer;\n",
              "      display: none;\n",
              "      fill: #1967D2;\n",
              "      height: 32px;\n",
              "      padding: 0 0 0 0;\n",
              "      width: 32px;\n",
              "    }\n",
              "\n",
              "    .colab-df-convert:hover {\n",
              "      background-color: #E2EBFA;\n",
              "      box-shadow: 0px 1px 2px rgba(60, 64, 67, 0.3), 0px 1px 3px 1px rgba(60, 64, 67, 0.15);\n",
              "      fill: #174EA6;\n",
              "    }\n",
              "\n",
              "    [theme=dark] .colab-df-convert {\n",
              "      background-color: #3B4455;\n",
              "      fill: #D2E3FC;\n",
              "    }\n",
              "\n",
              "    [theme=dark] .colab-df-convert:hover {\n",
              "      background-color: #434B5C;\n",
              "      box-shadow: 0px 1px 3px 1px rgba(0, 0, 0, 0.15);\n",
              "      filter: drop-shadow(0px 1px 2px rgba(0, 0, 0, 0.3));\n",
              "      fill: #FFFFFF;\n",
              "    }\n",
              "  </style>\n",
              "\n",
              "      <script>\n",
              "        const buttonEl =\n",
              "          document.querySelector('#df-bd1ea4fe-585d-4359-a5e3-af91ea3d42e7 button.colab-df-convert');\n",
              "        buttonEl.style.display =\n",
              "          google.colab.kernel.accessAllowed ? 'block' : 'none';\n",
              "\n",
              "        async function convertToInteractive(key) {\n",
              "          const element = document.querySelector('#df-bd1ea4fe-585d-4359-a5e3-af91ea3d42e7');\n",
              "          const dataTable =\n",
              "            await google.colab.kernel.invokeFunction('convertToInteractive',\n",
              "                                                     [key], {});\n",
              "          if (!dataTable) return;\n",
              "\n",
              "          const docLinkHtml = 'Like what you see? Visit the ' +\n",
              "            '<a target=\"_blank\" href=https://colab.research.google.com/notebooks/data_table.ipynb>data table notebook</a>'\n",
              "            + ' to learn more about interactive tables.';\n",
              "          element.innerHTML = '';\n",
              "          dataTable['output_type'] = 'display_data';\n",
              "          await google.colab.output.renderOutput(dataTable, element);\n",
              "          const docLink = document.createElement('div');\n",
              "          docLink.innerHTML = docLinkHtml;\n",
              "          element.appendChild(docLink);\n",
              "        }\n",
              "      </script>\n",
              "    </div>\n",
              "  </div>\n",
              "  "
            ]
          },
          "metadata": {},
          "execution_count": 16
        }
      ]
    },
    {
      "cell_type": "code",
      "source": [
        "# dataset avec les valeurs manquantes\n",
        "df_testing = billets.loc[billets['margin_low'].isnull(),['is_genuine','diagonal','height_left','height_right','margin_up','length']]\n",
        "df_testing.head()"
      ],
      "metadata": {
        "colab": {
          "base_uri": "https://localhost:8080/",
          "height": 206
        },
        "id": "rBFlBXQudZdr",
        "outputId": "54d8f3bf-91c6-4b0f-8fe0-84f2bb356c4f"
      },
      "execution_count": 17,
      "outputs": [
        {
          "output_type": "execute_result",
          "data": {
            "text/plain": [
              "     is_genuine  diagonal  height_left  height_right  margin_up  length\n",
              "72            1    171.94       103.89        103.45       3.25  112.79\n",
              "99            1    171.93       104.07        104.18       3.14  113.08\n",
              "151           1    172.07       103.80        104.38       3.02  112.93\n",
              "197           1    171.45       103.66        103.80       3.62  113.27\n",
              "241           1    171.83       104.14        104.06       3.02  112.36"
            ],
            "text/html": [
              "\n",
              "  <div id=\"df-daebe446-9230-4247-b1bc-255abb3f9787\">\n",
              "    <div class=\"colab-df-container\">\n",
              "      <div>\n",
              "<style scoped>\n",
              "    .dataframe tbody tr th:only-of-type {\n",
              "        vertical-align: middle;\n",
              "    }\n",
              "\n",
              "    .dataframe tbody tr th {\n",
              "        vertical-align: top;\n",
              "    }\n",
              "\n",
              "    .dataframe thead th {\n",
              "        text-align: right;\n",
              "    }\n",
              "</style>\n",
              "<table border=\"1\" class=\"dataframe\">\n",
              "  <thead>\n",
              "    <tr style=\"text-align: right;\">\n",
              "      <th></th>\n",
              "      <th>is_genuine</th>\n",
              "      <th>diagonal</th>\n",
              "      <th>height_left</th>\n",
              "      <th>height_right</th>\n",
              "      <th>margin_up</th>\n",
              "      <th>length</th>\n",
              "    </tr>\n",
              "  </thead>\n",
              "  <tbody>\n",
              "    <tr>\n",
              "      <th>72</th>\n",
              "      <td>1</td>\n",
              "      <td>171.94</td>\n",
              "      <td>103.89</td>\n",
              "      <td>103.45</td>\n",
              "      <td>3.25</td>\n",
              "      <td>112.79</td>\n",
              "    </tr>\n",
              "    <tr>\n",
              "      <th>99</th>\n",
              "      <td>1</td>\n",
              "      <td>171.93</td>\n",
              "      <td>104.07</td>\n",
              "      <td>104.18</td>\n",
              "      <td>3.14</td>\n",
              "      <td>113.08</td>\n",
              "    </tr>\n",
              "    <tr>\n",
              "      <th>151</th>\n",
              "      <td>1</td>\n",
              "      <td>172.07</td>\n",
              "      <td>103.80</td>\n",
              "      <td>104.38</td>\n",
              "      <td>3.02</td>\n",
              "      <td>112.93</td>\n",
              "    </tr>\n",
              "    <tr>\n",
              "      <th>197</th>\n",
              "      <td>1</td>\n",
              "      <td>171.45</td>\n",
              "      <td>103.66</td>\n",
              "      <td>103.80</td>\n",
              "      <td>3.62</td>\n",
              "      <td>113.27</td>\n",
              "    </tr>\n",
              "    <tr>\n",
              "      <th>241</th>\n",
              "      <td>1</td>\n",
              "      <td>171.83</td>\n",
              "      <td>104.14</td>\n",
              "      <td>104.06</td>\n",
              "      <td>3.02</td>\n",
              "      <td>112.36</td>\n",
              "    </tr>\n",
              "  </tbody>\n",
              "</table>\n",
              "</div>\n",
              "      <button class=\"colab-df-convert\" onclick=\"convertToInteractive('df-daebe446-9230-4247-b1bc-255abb3f9787')\"\n",
              "              title=\"Convert this dataframe to an interactive table.\"\n",
              "              style=\"display:none;\">\n",
              "        \n",
              "  <svg xmlns=\"http://www.w3.org/2000/svg\" height=\"24px\"viewBox=\"0 0 24 24\"\n",
              "       width=\"24px\">\n",
              "    <path d=\"M0 0h24v24H0V0z\" fill=\"none\"/>\n",
              "    <path d=\"M18.56 5.44l.94 2.06.94-2.06 2.06-.94-2.06-.94-.94-2.06-.94 2.06-2.06.94zm-11 1L8.5 8.5l.94-2.06 2.06-.94-2.06-.94L8.5 2.5l-.94 2.06-2.06.94zm10 10l.94 2.06.94-2.06 2.06-.94-2.06-.94-.94-2.06-.94 2.06-2.06.94z\"/><path d=\"M17.41 7.96l-1.37-1.37c-.4-.4-.92-.59-1.43-.59-.52 0-1.04.2-1.43.59L10.3 9.45l-7.72 7.72c-.78.78-.78 2.05 0 2.83L4 21.41c.39.39.9.59 1.41.59.51 0 1.02-.2 1.41-.59l7.78-7.78 2.81-2.81c.8-.78.8-2.07 0-2.86zM5.41 20L4 18.59l7.72-7.72 1.47 1.35L5.41 20z\"/>\n",
              "  </svg>\n",
              "      </button>\n",
              "      \n",
              "  <style>\n",
              "    .colab-df-container {\n",
              "      display:flex;\n",
              "      flex-wrap:wrap;\n",
              "      gap: 12px;\n",
              "    }\n",
              "\n",
              "    .colab-df-convert {\n",
              "      background-color: #E8F0FE;\n",
              "      border: none;\n",
              "      border-radius: 50%;\n",
              "      cursor: pointer;\n",
              "      display: none;\n",
              "      fill: #1967D2;\n",
              "      height: 32px;\n",
              "      padding: 0 0 0 0;\n",
              "      width: 32px;\n",
              "    }\n",
              "\n",
              "    .colab-df-convert:hover {\n",
              "      background-color: #E2EBFA;\n",
              "      box-shadow: 0px 1px 2px rgba(60, 64, 67, 0.3), 0px 1px 3px 1px rgba(60, 64, 67, 0.15);\n",
              "      fill: #174EA6;\n",
              "    }\n",
              "\n",
              "    [theme=dark] .colab-df-convert {\n",
              "      background-color: #3B4455;\n",
              "      fill: #D2E3FC;\n",
              "    }\n",
              "\n",
              "    [theme=dark] .colab-df-convert:hover {\n",
              "      background-color: #434B5C;\n",
              "      box-shadow: 0px 1px 3px 1px rgba(0, 0, 0, 0.15);\n",
              "      filter: drop-shadow(0px 1px 2px rgba(0, 0, 0, 0.3));\n",
              "      fill: #FFFFFF;\n",
              "    }\n",
              "  </style>\n",
              "\n",
              "      <script>\n",
              "        const buttonEl =\n",
              "          document.querySelector('#df-daebe446-9230-4247-b1bc-255abb3f9787 button.colab-df-convert');\n",
              "        buttonEl.style.display =\n",
              "          google.colab.kernel.accessAllowed ? 'block' : 'none';\n",
              "\n",
              "        async function convertToInteractive(key) {\n",
              "          const element = document.querySelector('#df-daebe446-9230-4247-b1bc-255abb3f9787');\n",
              "          const dataTable =\n",
              "            await google.colab.kernel.invokeFunction('convertToInteractive',\n",
              "                                                     [key], {});\n",
              "          if (!dataTable) return;\n",
              "\n",
              "          const docLinkHtml = 'Like what you see? Visit the ' +\n",
              "            '<a target=\"_blank\" href=https://colab.research.google.com/notebooks/data_table.ipynb>data table notebook</a>'\n",
              "            + ' to learn more about interactive tables.';\n",
              "          element.innerHTML = '';\n",
              "          dataTable['output_type'] = 'display_data';\n",
              "          await google.colab.output.renderOutput(dataTable, element);\n",
              "          const docLink = document.createElement('div');\n",
              "          docLink.innerHTML = docLinkHtml;\n",
              "          element.appendChild(docLink);\n",
              "        }\n",
              "      </script>\n",
              "    </div>\n",
              "  </div>\n",
              "  "
            ]
          },
          "metadata": {},
          "execution_count": 17
        }
      ]
    },
    {
      "cell_type": "markdown",
      "source": [
        "\n",
        "\n",
        "1.   OLS - Regression linéaire backward\n",
        "\n"
      ],
      "metadata": {
        "id": "eh8OirzwxiQJ"
      }
    },
    {
      "cell_type": "code",
      "source": [
        "# régresseur de manière itérative : backwards > nous supprimons des variables petit à petit \n",
        "import statsmodels.formula.api as smf\n",
        "\n",
        "#Lancer une regression sur le marge \n",
        "reg_multi = smf.ols('margin_low~diagonal+length+height_left+is_genuine+margin_up+height_right', data=df_training).fit()\n",
        "\n",
        "print(reg_multi.summary())"
      ],
      "metadata": {
        "colab": {
          "base_uri": "https://localhost:8080/"
        },
        "id": "O6e7JzalByNm",
        "outputId": "0897a868-ff25-4ac2-c116-1c79a3b39661"
      },
      "execution_count": 21,
      "outputs": [
        {
          "output_type": "stream",
          "name": "stdout",
          "text": [
            "                            OLS Regression Results                            \n",
            "==============================================================================\n",
            "Dep. Variable:             margin_low   R-squared:                       0.617\n",
            "Model:                            OLS   Adj. R-squared:                  0.615\n",
            "Method:                 Least Squares   F-statistic:                     390.7\n",
            "Date:                Thu, 23 Feb 2023   Prob (F-statistic):          4.75e-299\n",
            "Time:                        13:59:37   Log-Likelihood:                -774.14\n",
            "No. Observations:                1463   AIC:                             1562.\n",
            "Df Residuals:                    1456   BIC:                             1599.\n",
            "Df Model:                           6                                         \n",
            "Covariance Type:            nonrobust                                         \n",
            "================================================================================\n",
            "                   coef    std err          t      P>|t|      [0.025      0.975]\n",
            "--------------------------------------------------------------------------------\n",
            "Intercept        2.8668      8.316      0.345      0.730     -13.445      19.179\n",
            "diagonal        -0.0130      0.036     -0.364      0.716      -0.083       0.057\n",
            "length          -0.0039      0.023     -0.166      0.868      -0.050       0.042\n",
            "height_left      0.0283      0.039      0.727      0.468      -0.048       0.105\n",
            "is_genuine      -1.1406      0.050    -23.028      0.000      -1.238      -1.043\n",
            "margin_up       -0.2128      0.059     -3.621      0.000      -0.328      -0.098\n",
            "height_right     0.0267      0.038      0.701      0.484      -0.048       0.102\n",
            "==============================================================================\n",
            "Omnibus:                       21.975   Durbin-Watson:                   2.038\n",
            "Prob(Omnibus):                  0.000   Jarque-Bera (JB):               37.993\n",
            "Skew:                           0.061   Prob(JB):                     5.62e-09\n",
            "Kurtosis:                       3.780   Cond. No.                     1.95e+05\n",
            "==============================================================================\n",
            "\n",
            "Notes:\n",
            "[1] Standard Errors assume that the covariance matrix of the errors is correctly specified.\n",
            "[2] The condition number is large, 1.95e+05. This might indicate that there are\n",
            "strong multicollinearity or other numerical problems.\n"
          ]
        }
      ]
    },
    {
      "cell_type": "code",
      "source": [
        "#https://stackoverflow.com/questions/38905031/name-classification-model-is-not-defined\n",
        "#Fonction de selection automatique du modele\n",
        "def backward_selected(data, response):\n",
        "        remaining = set(data._get_numeric_data().columns)\n",
        "        if response in remaining:\n",
        "            remaining.remove(response)\n",
        "        cond = True\n",
        "        while remaining and cond:\n",
        "            formula = \"{} ~ {} + 1\".format(response,' + '.join(remaining))\n",
        "            print('_______________________________')\n",
        "            print(formula)\n",
        "            model = smf.ols(formula, data).fit()\n",
        "            score = model.pvalues[1:]\n",
        "            toRemove = score[score == score.max()]\n",
        "            if toRemove.values > 0.05:\n",
        "                print('remove', toRemove.index[0], '(p-value :', round(toRemove.values[0],3), ')')\n",
        "                remaining.remove(toRemove.index[0])\n",
        "            else:\n",
        "                cond = False\n",
        "                print('is the final model !')\n",
        "            print('')\n",
        "        print(model.summary())\n",
        "        return model\n",
        "        \n",
        "columns = ['margin_low','diagonal','is_genuine','height_left','height_right','margin_up','length']\n",
        "regression_backward = backward_selected(df_training[columns], 'margin_low')"
      ],
      "metadata": {
        "colab": {
          "base_uri": "https://localhost:8080/"
        },
        "id": "ZwIg0CJlwfiF",
        "outputId": "b386f3f5-9fea-42a9-d5e2-4911bf670516"
      },
      "execution_count": 22,
      "outputs": [
        {
          "output_type": "stream",
          "name": "stdout",
          "text": [
            "_______________________________\n",
            "margin_low ~ height_right + diagonal + margin_up + is_genuine + length + height_left + 1\n",
            "remove length (p-value : 0.868 )\n",
            "\n",
            "_______________________________\n",
            "margin_low ~ height_right + diagonal + margin_up + is_genuine + height_left + 1\n",
            "remove diagonal (p-value : 0.719 )\n",
            "\n",
            "_______________________________\n",
            "margin_low ~ height_right + margin_up + is_genuine + height_left + 1\n",
            "remove height_right (p-value : 0.496 )\n",
            "\n",
            "_______________________________\n",
            "margin_low ~ margin_up + is_genuine + height_left + 1\n",
            "remove height_left (p-value : 0.454 )\n",
            "\n",
            "_______________________________\n",
            "margin_low ~ margin_up + is_genuine + 1\n",
            "is the final model !\n",
            "\n",
            "                            OLS Regression Results                            \n",
            "==============================================================================\n",
            "Dep. Variable:             margin_low   R-squared:                       0.617\n",
            "Model:                            OLS   Adj. R-squared:                  0.616\n",
            "Method:                 Least Squares   F-statistic:                     1174.\n",
            "Date:                Thu, 23 Feb 2023   Prob (F-statistic):          1.24e-304\n",
            "Time:                        13:59:37   Log-Likelihood:                -774.73\n",
            "No. Observations:                1463   AIC:                             1555.\n",
            "Df Residuals:                    1460   BIC:                             1571.\n",
            "Df Model:                           2                                         \n",
            "Covariance Type:            nonrobust                                         \n",
            "==============================================================================\n",
            "                 coef    std err          t      P>|t|      [0.025      0.975]\n",
            "------------------------------------------------------------------------------\n",
            "Intercept      5.9263      0.198     30.003      0.000       5.539       6.314\n",
            "margin_up     -0.2119      0.059     -3.612      0.000      -0.327      -0.097\n",
            "is_genuine    -1.1632      0.029    -40.477      0.000      -1.220      -1.107\n",
            "==============================================================================\n",
            "Omnibus:                       22.365   Durbin-Watson:                   2.041\n",
            "Prob(Omnibus):                  0.000   Jarque-Bera (JB):               39.106\n",
            "Skew:                           0.057   Prob(JB):                     3.22e-09\n",
            "Kurtosis:                       3.793   Cond. No.                         65.0\n",
            "==============================================================================\n",
            "\n",
            "Notes:\n",
            "[1] Standard Errors assume that the covariance matrix of the errors is correctly specified.\n"
          ]
        }
      ]
    },
    {
      "cell_type": "code",
      "source": [
        "# régresseur de manière itérative : backwards > nous supprimons des variables petit à petit \n",
        "import statsmodels.formula.api as smf\n",
        "\n",
        "#Lancer une regression sur le marge \n",
        "reg_multi = smf.ols('margin_low~is_genuine+margin_up', data=df_training).fit()\n",
        "\n",
        "print(reg_multi.summary())"
      ],
      "metadata": {
        "colab": {
          "base_uri": "https://localhost:8080/"
        },
        "id": "oVx20XBqzICL",
        "outputId": "01a77052-8301-4764-9c98-4961d9943a27"
      },
      "execution_count": 23,
      "outputs": [
        {
          "output_type": "stream",
          "name": "stdout",
          "text": [
            "                            OLS Regression Results                            \n",
            "==============================================================================\n",
            "Dep. Variable:             margin_low   R-squared:                       0.617\n",
            "Model:                            OLS   Adj. R-squared:                  0.616\n",
            "Method:                 Least Squares   F-statistic:                     1174.\n",
            "Date:                Thu, 23 Feb 2023   Prob (F-statistic):          1.24e-304\n",
            "Time:                        13:59:37   Log-Likelihood:                -774.73\n",
            "No. Observations:                1463   AIC:                             1555.\n",
            "Df Residuals:                    1460   BIC:                             1571.\n",
            "Df Model:                           2                                         \n",
            "Covariance Type:            nonrobust                                         \n",
            "==============================================================================\n",
            "                 coef    std err          t      P>|t|      [0.025      0.975]\n",
            "------------------------------------------------------------------------------\n",
            "Intercept      5.9263      0.198     30.003      0.000       5.539       6.314\n",
            "is_genuine    -1.1632      0.029    -40.477      0.000      -1.220      -1.107\n",
            "margin_up     -0.2119      0.059     -3.612      0.000      -0.327      -0.097\n",
            "==============================================================================\n",
            "Omnibus:                       22.365   Durbin-Watson:                   2.041\n",
            "Prob(Omnibus):                  0.000   Jarque-Bera (JB):               39.106\n",
            "Skew:                           0.057   Prob(JB):                     3.22e-09\n",
            "Kurtosis:                       3.793   Cond. No.                         65.0\n",
            "==============================================================================\n",
            "\n",
            "Notes:\n",
            "[1] Standard Errors assume that the covariance matrix of the errors is correctly specified.\n"
          ]
        }
      ]
    },
    {
      "cell_type": "markdown",
      "source": [
        "\n",
        "\n",
        "2.   Explorer les outliers de la variable margin_up puis nous les supprimons\n",
        "\n",
        "\n"
      ],
      "metadata": {
        "id": "hhsbUsRLzsT_"
      }
    },
    {
      "cell_type": "code",
      "source": [
        "plt.figure(figsize=(8, 8))\n",
        "sns.set(style=\"whitegrid\")\n",
        "plt.subplot(221)\n",
        "sns.boxplot(data=billets,  y='margin_up')\n",
        "\n",
        "df_training = df_training.loc[(df_training['margin_up']>2.40) & (df_training['margin_up']<3.75)]\n",
        "df_training"
      ],
      "metadata": {
        "colab": {
          "base_uri": "https://localhost:8080/",
          "height": 636
        },
        "id": "acq2VFJwynhC",
        "outputId": "a5fa34d7-7251-4fb1-f715-9c03b9ed7975"
      },
      "execution_count": 24,
      "outputs": [
        {
          "output_type": "execute_result",
          "data": {
            "text/plain": [
              "      is_genuine  diagonal  height_left  height_right  margin_low  margin_up  \\\n",
              "0              1    171.81       104.86        104.95        4.52       2.89   \n",
              "1              1    171.46       103.36        103.66        3.77       2.99   \n",
              "2              1    172.69       104.48        103.50        4.40       2.94   \n",
              "3              1    171.36       103.91        103.94        3.62       3.01   \n",
              "4              1    171.73       104.28        103.46        4.04       3.48   \n",
              "...          ...       ...          ...           ...         ...        ...   \n",
              "1495           0    171.75       104.38        104.17        4.42       3.09   \n",
              "1496           0    172.19       104.63        104.44        5.27       3.37   \n",
              "1497           0    171.80       104.01        104.12        5.51       3.36   \n",
              "1498           0    172.06       104.28        104.06        5.17       3.46   \n",
              "1499           0    171.47       104.15        103.82        4.63       3.37   \n",
              "\n",
              "      length  \n",
              "0     112.83  \n",
              "1     113.09  \n",
              "2     113.16  \n",
              "3     113.51  \n",
              "4     112.54  \n",
              "...      ...  \n",
              "1495  111.28  \n",
              "1496  110.97  \n",
              "1497  111.95  \n",
              "1498  112.25  \n",
              "1499  112.07  \n",
              "\n",
              "[1456 rows x 7 columns]"
            ],
            "text/html": [
              "\n",
              "  <div id=\"df-a7b8e4f7-7fa5-4eef-91b6-6644d668551c\">\n",
              "    <div class=\"colab-df-container\">\n",
              "      <div>\n",
              "<style scoped>\n",
              "    .dataframe tbody tr th:only-of-type {\n",
              "        vertical-align: middle;\n",
              "    }\n",
              "\n",
              "    .dataframe tbody tr th {\n",
              "        vertical-align: top;\n",
              "    }\n",
              "\n",
              "    .dataframe thead th {\n",
              "        text-align: right;\n",
              "    }\n",
              "</style>\n",
              "<table border=\"1\" class=\"dataframe\">\n",
              "  <thead>\n",
              "    <tr style=\"text-align: right;\">\n",
              "      <th></th>\n",
              "      <th>is_genuine</th>\n",
              "      <th>diagonal</th>\n",
              "      <th>height_left</th>\n",
              "      <th>height_right</th>\n",
              "      <th>margin_low</th>\n",
              "      <th>margin_up</th>\n",
              "      <th>length</th>\n",
              "    </tr>\n",
              "  </thead>\n",
              "  <tbody>\n",
              "    <tr>\n",
              "      <th>0</th>\n",
              "      <td>1</td>\n",
              "      <td>171.81</td>\n",
              "      <td>104.86</td>\n",
              "      <td>104.95</td>\n",
              "      <td>4.52</td>\n",
              "      <td>2.89</td>\n",
              "      <td>112.83</td>\n",
              "    </tr>\n",
              "    <tr>\n",
              "      <th>1</th>\n",
              "      <td>1</td>\n",
              "      <td>171.46</td>\n",
              "      <td>103.36</td>\n",
              "      <td>103.66</td>\n",
              "      <td>3.77</td>\n",
              "      <td>2.99</td>\n",
              "      <td>113.09</td>\n",
              "    </tr>\n",
              "    <tr>\n",
              "      <th>2</th>\n",
              "      <td>1</td>\n",
              "      <td>172.69</td>\n",
              "      <td>104.48</td>\n",
              "      <td>103.50</td>\n",
              "      <td>4.40</td>\n",
              "      <td>2.94</td>\n",
              "      <td>113.16</td>\n",
              "    </tr>\n",
              "    <tr>\n",
              "      <th>3</th>\n",
              "      <td>1</td>\n",
              "      <td>171.36</td>\n",
              "      <td>103.91</td>\n",
              "      <td>103.94</td>\n",
              "      <td>3.62</td>\n",
              "      <td>3.01</td>\n",
              "      <td>113.51</td>\n",
              "    </tr>\n",
              "    <tr>\n",
              "      <th>4</th>\n",
              "      <td>1</td>\n",
              "      <td>171.73</td>\n",
              "      <td>104.28</td>\n",
              "      <td>103.46</td>\n",
              "      <td>4.04</td>\n",
              "      <td>3.48</td>\n",
              "      <td>112.54</td>\n",
              "    </tr>\n",
              "    <tr>\n",
              "      <th>...</th>\n",
              "      <td>...</td>\n",
              "      <td>...</td>\n",
              "      <td>...</td>\n",
              "      <td>...</td>\n",
              "      <td>...</td>\n",
              "      <td>...</td>\n",
              "      <td>...</td>\n",
              "    </tr>\n",
              "    <tr>\n",
              "      <th>1495</th>\n",
              "      <td>0</td>\n",
              "      <td>171.75</td>\n",
              "      <td>104.38</td>\n",
              "      <td>104.17</td>\n",
              "      <td>4.42</td>\n",
              "      <td>3.09</td>\n",
              "      <td>111.28</td>\n",
              "    </tr>\n",
              "    <tr>\n",
              "      <th>1496</th>\n",
              "      <td>0</td>\n",
              "      <td>172.19</td>\n",
              "      <td>104.63</td>\n",
              "      <td>104.44</td>\n",
              "      <td>5.27</td>\n",
              "      <td>3.37</td>\n",
              "      <td>110.97</td>\n",
              "    </tr>\n",
              "    <tr>\n",
              "      <th>1497</th>\n",
              "      <td>0</td>\n",
              "      <td>171.80</td>\n",
              "      <td>104.01</td>\n",
              "      <td>104.12</td>\n",
              "      <td>5.51</td>\n",
              "      <td>3.36</td>\n",
              "      <td>111.95</td>\n",
              "    </tr>\n",
              "    <tr>\n",
              "      <th>1498</th>\n",
              "      <td>0</td>\n",
              "      <td>172.06</td>\n",
              "      <td>104.28</td>\n",
              "      <td>104.06</td>\n",
              "      <td>5.17</td>\n",
              "      <td>3.46</td>\n",
              "      <td>112.25</td>\n",
              "    </tr>\n",
              "    <tr>\n",
              "      <th>1499</th>\n",
              "      <td>0</td>\n",
              "      <td>171.47</td>\n",
              "      <td>104.15</td>\n",
              "      <td>103.82</td>\n",
              "      <td>4.63</td>\n",
              "      <td>3.37</td>\n",
              "      <td>112.07</td>\n",
              "    </tr>\n",
              "  </tbody>\n",
              "</table>\n",
              "<p>1456 rows × 7 columns</p>\n",
              "</div>\n",
              "      <button class=\"colab-df-convert\" onclick=\"convertToInteractive('df-a7b8e4f7-7fa5-4eef-91b6-6644d668551c')\"\n",
              "              title=\"Convert this dataframe to an interactive table.\"\n",
              "              style=\"display:none;\">\n",
              "        \n",
              "  <svg xmlns=\"http://www.w3.org/2000/svg\" height=\"24px\"viewBox=\"0 0 24 24\"\n",
              "       width=\"24px\">\n",
              "    <path d=\"M0 0h24v24H0V0z\" fill=\"none\"/>\n",
              "    <path d=\"M18.56 5.44l.94 2.06.94-2.06 2.06-.94-2.06-.94-.94-2.06-.94 2.06-2.06.94zm-11 1L8.5 8.5l.94-2.06 2.06-.94-2.06-.94L8.5 2.5l-.94 2.06-2.06.94zm10 10l.94 2.06.94-2.06 2.06-.94-2.06-.94-.94-2.06-.94 2.06-2.06.94z\"/><path d=\"M17.41 7.96l-1.37-1.37c-.4-.4-.92-.59-1.43-.59-.52 0-1.04.2-1.43.59L10.3 9.45l-7.72 7.72c-.78.78-.78 2.05 0 2.83L4 21.41c.39.39.9.59 1.41.59.51 0 1.02-.2 1.41-.59l7.78-7.78 2.81-2.81c.8-.78.8-2.07 0-2.86zM5.41 20L4 18.59l7.72-7.72 1.47 1.35L5.41 20z\"/>\n",
              "  </svg>\n",
              "      </button>\n",
              "      \n",
              "  <style>\n",
              "    .colab-df-container {\n",
              "      display:flex;\n",
              "      flex-wrap:wrap;\n",
              "      gap: 12px;\n",
              "    }\n",
              "\n",
              "    .colab-df-convert {\n",
              "      background-color: #E8F0FE;\n",
              "      border: none;\n",
              "      border-radius: 50%;\n",
              "      cursor: pointer;\n",
              "      display: none;\n",
              "      fill: #1967D2;\n",
              "      height: 32px;\n",
              "      padding: 0 0 0 0;\n",
              "      width: 32px;\n",
              "    }\n",
              "\n",
              "    .colab-df-convert:hover {\n",
              "      background-color: #E2EBFA;\n",
              "      box-shadow: 0px 1px 2px rgba(60, 64, 67, 0.3), 0px 1px 3px 1px rgba(60, 64, 67, 0.15);\n",
              "      fill: #174EA6;\n",
              "    }\n",
              "\n",
              "    [theme=dark] .colab-df-convert {\n",
              "      background-color: #3B4455;\n",
              "      fill: #D2E3FC;\n",
              "    }\n",
              "\n",
              "    [theme=dark] .colab-df-convert:hover {\n",
              "      background-color: #434B5C;\n",
              "      box-shadow: 0px 1px 3px 1px rgba(0, 0, 0, 0.15);\n",
              "      filter: drop-shadow(0px 1px 2px rgba(0, 0, 0, 0.3));\n",
              "      fill: #FFFFFF;\n",
              "    }\n",
              "  </style>\n",
              "\n",
              "      <script>\n",
              "        const buttonEl =\n",
              "          document.querySelector('#df-a7b8e4f7-7fa5-4eef-91b6-6644d668551c button.colab-df-convert');\n",
              "        buttonEl.style.display =\n",
              "          google.colab.kernel.accessAllowed ? 'block' : 'none';\n",
              "\n",
              "        async function convertToInteractive(key) {\n",
              "          const element = document.querySelector('#df-a7b8e4f7-7fa5-4eef-91b6-6644d668551c');\n",
              "          const dataTable =\n",
              "            await google.colab.kernel.invokeFunction('convertToInteractive',\n",
              "                                                     [key], {});\n",
              "          if (!dataTable) return;\n",
              "\n",
              "          const docLinkHtml = 'Like what you see? Visit the ' +\n",
              "            '<a target=\"_blank\" href=https://colab.research.google.com/notebooks/data_table.ipynb>data table notebook</a>'\n",
              "            + ' to learn more about interactive tables.';\n",
              "          element.innerHTML = '';\n",
              "          dataTable['output_type'] = 'display_data';\n",
              "          await google.colab.output.renderOutput(dataTable, element);\n",
              "          const docLink = document.createElement('div');\n",
              "          docLink.innerHTML = docLinkHtml;\n",
              "          element.appendChild(docLink);\n",
              "        }\n",
              "      </script>\n",
              "    </div>\n",
              "  </div>\n",
              "  "
            ]
          },
          "metadata": {},
          "execution_count": 24
        },
        {
          "output_type": "display_data",
          "data": {
            "text/plain": [
              "<Figure size 576x576 with 1 Axes>"
            ],
            "image/png": "[encoded data removed]"
          },
          "metadata": {}
        }
      ]
    },
    {
      "cell_type": "code",
      "source": [
        "df_training_vf = df_training.drop(['diagonal','length','height_right','height_left'],axis=1)\n",
        "df_training_vf.head()"
      ],
      "metadata": {
        "colab": {
          "base_uri": "https://localhost:8080/",
          "height": 206
        },
        "id": "Me04QR0iyK0_",
        "outputId": "4dbd31db-9a57-4216-beb2-929d044190a3"
      },
      "execution_count": 29,
      "outputs": [
        {
          "output_type": "execute_result",
          "data": {
            "text/plain": [
              "   is_genuine  margin_low  margin_up\n",
              "0           1        4.52       2.89\n",
              "1           1        3.77       2.99\n",
              "2           1        4.40       2.94\n",
              "3           1        3.62       3.01\n",
              "4           1        4.04       3.48"
            ],
            "text/html": [
              "\n",
              "  <div id=\"df-b202c68f-3086-4508-b855-f38b50e31066\">\n",
              "    <div class=\"colab-df-container\">\n",
              "      <div>\n",
              "<style scoped>\n",
              "    .dataframe tbody tr th:only-of-type {\n",
              "        vertical-align: middle;\n",
              "    }\n",
              "\n",
              "    .dataframe tbody tr th {\n",
              "        vertical-align: top;\n",
              "    }\n",
              "\n",
              "    .dataframe thead th {\n",
              "        text-align: right;\n",
              "    }\n",
              "</style>\n",
              "<table border=\"1\" class=\"dataframe\">\n",
              "  <thead>\n",
              "    <tr style=\"text-align: right;\">\n",
              "      <th></th>\n",
              "      <th>is_genuine</th>\n",
              "      <th>margin_low</th>\n",
              "      <th>margin_up</th>\n",
              "    </tr>\n",
              "  </thead>\n",
              "  <tbody>\n",
              "    <tr>\n",
              "      <th>0</th>\n",
              "      <td>1</td>\n",
              "      <td>4.52</td>\n",
              "      <td>2.89</td>\n",
              "    </tr>\n",
              "    <tr>\n",
              "      <th>1</th>\n",
              "      <td>1</td>\n",
              "      <td>3.77</td>\n",
              "      <td>2.99</td>\n",
              "    </tr>\n",
              "    <tr>\n",
              "      <th>2</th>\n",
              "      <td>1</td>\n",
              "      <td>4.40</td>\n",
              "      <td>2.94</td>\n",
              "    </tr>\n",
              "    <tr>\n",
              "      <th>3</th>\n",
              "      <td>1</td>\n",
              "      <td>3.62</td>\n",
              "      <td>3.01</td>\n",
              "    </tr>\n",
              "    <tr>\n",
              "      <th>4</th>\n",
              "      <td>1</td>\n",
              "      <td>4.04</td>\n",
              "      <td>3.48</td>\n",
              "    </tr>\n",
              "  </tbody>\n",
              "</table>\n",
              "</div>\n",
              "      <button class=\"colab-df-convert\" onclick=\"convertToInteractive('df-b202c68f-3086-4508-b855-f38b50e31066')\"\n",
              "              title=\"Convert this dataframe to an interactive table.\"\n",
              "              style=\"display:none;\">\n",
              "        \n",
              "  <svg xmlns=\"http://www.w3.org/2000/svg\" height=\"24px\"viewBox=\"0 0 24 24\"\n",
              "       width=\"24px\">\n",
              "    <path d=\"M0 0h24v24H0V0z\" fill=\"none\"/>\n",
              "    <path d=\"M18.56 5.44l.94 2.06.94-2.06 2.06-.94-2.06-.94-.94-2.06-.94 2.06-2.06.94zm-11 1L8.5 8.5l.94-2.06 2.06-.94-2.06-.94L8.5 2.5l-.94 2.06-2.06.94zm10 10l.94 2.06.94-2.06 2.06-.94-2.06-.94-.94-2.06-.94 2.06-2.06.94z\"/><path d=\"M17.41 7.96l-1.37-1.37c-.4-.4-.92-.59-1.43-.59-.52 0-1.04.2-1.43.59L10.3 9.45l-7.72 7.72c-.78.78-.78 2.05 0 2.83L4 21.41c.39.39.9.59 1.41.59.51 0 1.02-.2 1.41-.59l7.78-7.78 2.81-2.81c.8-.78.8-2.07 0-2.86zM5.41 20L4 18.59l7.72-7.72 1.47 1.35L5.41 20z\"/>\n",
              "  </svg>\n",
              "      </button>\n",
              "      \n",
              "  <style>\n",
              "    .colab-df-container {\n",
              "      display:flex;\n",
              "      flex-wrap:wrap;\n",
              "      gap: 12px;\n",
              "    }\n",
              "\n",
              "    .colab-df-convert {\n",
              "      background-color: #E8F0FE;\n",
              "      border: none;\n",
              "      border-radius: 50%;\n",
              "      cursor: pointer;\n",
              "      display: none;\n",
              "      fill: #1967D2;\n",
              "      height: 32px;\n",
              "      padding: 0 0 0 0;\n",
              "      width: 32px;\n",
              "    }\n",
              "\n",
              "    .colab-df-convert:hover {\n",
              "      background-color: #E2EBFA;\n",
              "      box-shadow: 0px 1px 2px rgba(60, 64, 67, 0.3), 0px 1px 3px 1px rgba(60, 64, 67, 0.15);\n",
              "      fill: #174EA6;\n",
              "    }\n",
              "\n",
              "    [theme=dark] .colab-df-convert {\n",
              "      background-color: #3B4455;\n",
              "      fill: #D2E3FC;\n",
              "    }\n",
              "\n",
              "    [theme=dark] .colab-df-convert:hover {\n",
              "      background-color: #434B5C;\n",
              "      box-shadow: 0px 1px 3px 1px rgba(0, 0, 0, 0.15);\n",
              "      filter: drop-shadow(0px 1px 2px rgba(0, 0, 0, 0.3));\n",
              "      fill: #FFFFFF;\n",
              "    }\n",
              "  </style>\n",
              "\n",
              "      <script>\n",
              "        const buttonEl =\n",
              "          document.querySelector('#df-b202c68f-3086-4508-b855-f38b50e31066 button.colab-df-convert');\n",
              "        buttonEl.style.display =\n",
              "          google.colab.kernel.accessAllowed ? 'block' : 'none';\n",
              "\n",
              "        async function convertToInteractive(key) {\n",
              "          const element = document.querySelector('#df-b202c68f-3086-4508-b855-f38b50e31066');\n",
              "          const dataTable =\n",
              "            await google.colab.kernel.invokeFunction('convertToInteractive',\n",
              "                                                     [key], {});\n",
              "          if (!dataTable) return;\n",
              "\n",
              "          const docLinkHtml = 'Like what you see? Visit the ' +\n",
              "            '<a target=\"_blank\" href=https://colab.research.google.com/notebooks/data_table.ipynb>data table notebook</a>'\n",
              "            + ' to learn more about interactive tables.';\n",
              "          element.innerHTML = '';\n",
              "          dataTable['output_type'] = 'display_data';\n",
              "          await google.colab.output.renderOutput(dataTable, element);\n",
              "          const docLink = document.createElement('div');\n",
              "          docLink.innerHTML = docLinkHtml;\n",
              "          element.appendChild(docLink);\n",
              "        }\n",
              "      </script>\n",
              "    </div>\n",
              "  </div>\n",
              "  "
            ]
          },
          "metadata": {},
          "execution_count": 29
        }
      ]
    },
    {
      "cell_type": "markdown",
      "source": [
        "\n",
        "\n",
        "3.   Nous faisons une régression linéaire (OLS) sur les deux variables que nous souhaitons conserver\n",
        "\n",
        "\n"
      ],
      "metadata": {
        "id": "V41f9h5gy5Oc"
      }
    },
    {
      "cell_type": "code",
      "source": [
        "reg_multi_lin = smf.ols('margin_low~+is_genuine+margin_up ', data=df_training_vf).fit()\n",
        "print(reg_multi_lin.summary())"
      ],
      "metadata": {
        "id": "otzJaJoEy7ly",
        "colab": {
          "base_uri": "https://localhost:8080/"
        },
        "outputId": "bd823dd4-84ba-4dfc-843b-3fba90c47d18"
      },
      "execution_count": 31,
      "outputs": [
        {
          "output_type": "stream",
          "name": "stdout",
          "text": [
            "                            OLS Regression Results                            \n",
            "==============================================================================\n",
            "Dep. Variable:             margin_low   R-squared:                       0.618\n",
            "Model:                            OLS   Adj. R-squared:                  0.617\n",
            "Method:                 Least Squares   F-statistic:                     1173.\n",
            "Date:                Thu, 23 Feb 2023   Prob (F-statistic):          6.00e-304\n",
            "Time:                        14:18:22   Log-Likelihood:                -765.65\n",
            "No. Observations:                1456   AIC:                             1537.\n",
            "Df Residuals:                    1453   BIC:                             1553.\n",
            "Df Model:                           2                                         \n",
            "Covariance Type:            nonrobust                                         \n",
            "==============================================================================\n",
            "                 coef    std err          t      P>|t|      [0.025      0.975]\n",
            "------------------------------------------------------------------------------\n",
            "Intercept      5.9157      0.200     29.550      0.000       5.523       6.308\n",
            "is_genuine    -1.1614      0.029    -40.491      0.000      -1.218      -1.105\n",
            "margin_up     -0.2093      0.060     -3.514      0.000      -0.326      -0.092\n",
            "==============================================================================\n",
            "Omnibus:                       23.140   Durbin-Watson:                   2.051\n",
            "Prob(Omnibus):                  0.000   Jarque-Bera (JB):               41.336\n",
            "Skew:                           0.050   Prob(JB):                     1.06e-09\n",
            "Kurtosis:                       3.819   Cond. No.                         65.9\n",
            "==============================================================================\n",
            "\n",
            "Notes:\n",
            "[1] Standard Errors assume that the covariance matrix of the errors is correctly specified.\n"
          ]
        }
      ]
    },
    {
      "cell_type": "markdown",
      "source": [
        "# **IV. Modélisation**\n"
      ],
      "metadata": {
        "id": "vbn_W7wg-Ea8"
      }
    },
    {
      "cell_type": "markdown",
      "source": [
        "Construire le df final avec les valeurs manquantes prédites\n"
      ],
      "metadata": {
        "id": "jshPaddXsmZT"
      }
    },
    {
      "cell_type": "code",
      "source": [
        "prediction = df_testing.drop(['diagonal','height_left','height_right','length'],axis=1)\n",
        "\n",
        "valeurs_pred = reg_multi_lin.predict(prediction)\n",
        "df_testing['margin_low_pred'] = valeurs_pred"
      ],
      "metadata": {
        "id": "uB2JLlQBshp7"
      },
      "execution_count": 34,
      "outputs": []
    },
    {
      "cell_type": "code",
      "source": [
        "df_final = billets.copy()\n",
        "df_final.loc[df_testing.index, 'margin_low'] = df_testing['margin_low_pred']\n",
        "df_final.head()"
      ],
      "metadata": {
        "colab": {
          "base_uri": "https://localhost:8080/",
          "height": 206
        },
        "id": "eAwqUcel5H1-",
        "outputId": "42489315-e918-44e3-c6c5-08ffb85b2073"
      },
      "execution_count": 35,
      "outputs": [
        {
          "output_type": "execute_result",
          "data": {
            "text/plain": [
              "   is_genuine  diagonal  height_left  height_right  margin_low  margin_up  \\\n",
              "0           1    171.81       104.86        104.95        4.52       2.89   \n",
              "1           1    171.46       103.36        103.66        3.77       2.99   \n",
              "2           1    172.69       104.48        103.50        4.40       2.94   \n",
              "3           1    171.36       103.91        103.94        3.62       3.01   \n",
              "4           1    171.73       104.28        103.46        4.04       3.48   \n",
              "\n",
              "   length  \n",
              "0  112.83  \n",
              "1  113.09  \n",
              "2  113.16  \n",
              "3  113.51  \n",
              "4  112.54  "
            ],
            "text/html": [
              "\n",
              "  <div id=\"df-780f63ce-9ded-4a4d-90ed-0fa9be2d5a1f\">\n",
              "    <div class=\"colab-df-container\">\n",
              "      <div>\n",
              "<style scoped>\n",
              "    .dataframe tbody tr th:only-of-type {\n",
              "        vertical-align: middle;\n",
              "    }\n",
              "\n",
              "    .dataframe tbody tr th {\n",
              "        vertical-align: top;\n",
              "    }\n",
              "\n",
              "    .dataframe thead th {\n",
              "        text-align: right;\n",
              "    }\n",
              "</style>\n",
              "<table border=\"1\" class=\"dataframe\">\n",
              "  <thead>\n",
              "    <tr style=\"text-align: right;\">\n",
              "      <th></th>\n",
              "      <th>is_genuine</th>\n",
              "      <th>diagonal</th>\n",
              "      <th>height_left</th>\n",
              "      <th>height_right</th>\n",
              "      <th>margin_low</th>\n",
              "      <th>margin_up</th>\n",
              "      <th>length</th>\n",
              "    </tr>\n",
              "  </thead>\n",
              "  <tbody>\n",
              "    <tr>\n",
              "      <th>0</th>\n",
              "      <td>1</td>\n",
              "      <td>171.81</td>\n",
              "      <td>104.86</td>\n",
              "      <td>104.95</td>\n",
              "      <td>4.52</td>\n",
              "      <td>2.89</td>\n",
              "      <td>112.83</td>\n",
              "    </tr>\n",
              "    <tr>\n",
              "      <th>1</th>\n",
              "      <td>1</td>\n",
              "      <td>171.46</td>\n",
              "      <td>103.36</td>\n",
              "      <td>103.66</td>\n",
              "      <td>3.77</td>\n",
              "      <td>2.99</td>\n",
              "      <td>113.09</td>\n",
              "    </tr>\n",
              "    <tr>\n",
              "      <th>2</th>\n",
              "      <td>1</td>\n",
              "      <td>172.69</td>\n",
              "      <td>104.48</td>\n",
              "      <td>103.50</td>\n",
              "      <td>4.40</td>\n",
              "      <td>2.94</td>\n",
              "      <td>113.16</td>\n",
              "    </tr>\n",
              "    <tr>\n",
              "      <th>3</th>\n",
              "      <td>1</td>\n",
              "      <td>171.36</td>\n",
              "      <td>103.91</td>\n",
              "      <td>103.94</td>\n",
              "      <td>3.62</td>\n",
              "      <td>3.01</td>\n",
              "      <td>113.51</td>\n",
              "    </tr>\n",
              "    <tr>\n",
              "      <th>4</th>\n",
              "      <td>1</td>\n",
              "      <td>171.73</td>\n",
              "      <td>104.28</td>\n",
              "      <td>103.46</td>\n",
              "      <td>4.04</td>\n",
              "      <td>3.48</td>\n",
              "      <td>112.54</td>\n",
              "    </tr>\n",
              "  </tbody>\n",
              "</table>\n",
              "</div>\n",
              "      <button class=\"colab-df-convert\" onclick=\"convertToInteractive('df-780f63ce-9ded-4a4d-90ed-0fa9be2d5a1f')\"\n",
              "              title=\"Convert this dataframe to an interactive table.\"\n",
              "              style=\"display:none;\">\n",
              "        \n",
              "  <svg xmlns=\"http://www.w3.org/2000/svg\" height=\"24px\"viewBox=\"0 0 24 24\"\n",
              "       width=\"24px\">\n",
              "    <path d=\"M0 0h24v24H0V0z\" fill=\"none\"/>\n",
              "    <path d=\"M18.56 5.44l.94 2.06.94-2.06 2.06-.94-2.06-.94-.94-2.06-.94 2.06-2.06.94zm-11 1L8.5 8.5l.94-2.06 2.06-.94-2.06-.94L8.5 2.5l-.94 2.06-2.06.94zm10 10l.94 2.06.94-2.06 2.06-.94-2.06-.94-.94-2.06-.94 2.06-2.06.94z\"/><path d=\"M17.41 7.96l-1.37-1.37c-.4-.4-.92-.59-1.43-.59-.52 0-1.04.2-1.43.59L10.3 9.45l-7.72 7.72c-.78.78-.78 2.05 0 2.83L4 21.41c.39.39.9.59 1.41.59.51 0 1.02-.2 1.41-.59l7.78-7.78 2.81-2.81c.8-.78.8-2.07 0-2.86zM5.41 20L4 18.59l7.72-7.72 1.47 1.35L5.41 20z\"/>\n",
              "  </svg>\n",
              "      </button>\n",
              "      \n",
              "  <style>\n",
              "    .colab-df-container {\n",
              "      display:flex;\n",
              "      flex-wrap:wrap;\n",
              "      gap: 12px;\n",
              "    }\n",
              "\n",
              "    .colab-df-convert {\n",
              "      background-color: #E8F0FE;\n",
              "      border: none;\n",
              "      border-radius: 50%;\n",
              "      cursor: pointer;\n",
              "      display: none;\n",
              "      fill: #1967D2;\n",
              "      height: 32px;\n",
              "      padding: 0 0 0 0;\n",
              "      width: 32px;\n",
              "    }\n",
              "\n",
              "    .colab-df-convert:hover {\n",
              "      background-color: #E2EBFA;\n",
              "      box-shadow: 0px 1px 2px rgba(60, 64, 67, 0.3), 0px 1px 3px 1px rgba(60, 64, 67, 0.15);\n",
              "      fill: #174EA6;\n",
              "    }\n",
              "\n",
              "    [theme=dark] .colab-df-convert {\n",
              "      background-color: #3B4455;\n",
              "      fill: #D2E3FC;\n",
              "    }\n",
              "\n",
              "    [theme=dark] .colab-df-convert:hover {\n",
              "      background-color: #434B5C;\n",
              "      box-shadow: 0px 1px 3px 1px rgba(0, 0, 0, 0.15);\n",
              "      filter: drop-shadow(0px 1px 2px rgba(0, 0, 0, 0.3));\n",
              "      fill: #FFFFFF;\n",
              "    }\n",
              "  </style>\n",
              "\n",
              "      <script>\n",
              "        const buttonEl =\n",
              "          document.querySelector('#df-780f63ce-9ded-4a4d-90ed-0fa9be2d5a1f button.colab-df-convert');\n",
              "        buttonEl.style.display =\n",
              "          google.colab.kernel.accessAllowed ? 'block' : 'none';\n",
              "\n",
              "        async function convertToInteractive(key) {\n",
              "          const element = document.querySelector('#df-780f63ce-9ded-4a4d-90ed-0fa9be2d5a1f');\n",
              "          const dataTable =\n",
              "            await google.colab.kernel.invokeFunction('convertToInteractive',\n",
              "                                                     [key], {});\n",
              "          if (!dataTable) return;\n",
              "\n",
              "          const docLinkHtml = 'Like what you see? Visit the ' +\n",
              "            '<a target=\"_blank\" href=https://colab.research.google.com/notebooks/data_table.ipynb>data table notebook</a>'\n",
              "            + ' to learn more about interactive tables.';\n",
              "          element.innerHTML = '';\n",
              "          dataTable['output_type'] = 'display_data';\n",
              "          await google.colab.output.renderOutput(dataTable, element);\n",
              "          const docLink = document.createElement('div');\n",
              "          docLink.innerHTML = docLinkHtml;\n",
              "          element.appendChild(docLink);\n",
              "        }\n",
              "      </script>\n",
              "    </div>\n",
              "  </div>\n",
              "  "
            ]
          },
          "metadata": {},
          "execution_count": 35
        }
      ]
    },
    {
      "cell_type": "code",
      "source": [
        "df_final.shape"
      ],
      "metadata": {
        "colab": {
          "base_uri": "https://localhost:8080/"
        },
        "id": "pfpNOstu5X4L",
        "outputId": "0de7856f-8e3b-46e1-8e13-372d1f55abb4"
      },
      "execution_count": 36,
      "outputs": [
        {
          "output_type": "execute_result",
          "data": {
            "text/plain": [
              "(1500, 7)"
            ]
          },
          "metadata": {},
          "execution_count": 36
        }
      ]
    },
    {
      "cell_type": "code",
      "source": [
        "df_final.isnull().sum()"
      ],
      "metadata": {
        "colab": {
          "base_uri": "https://localhost:8080/"
        },
        "id": "Bc5VSmiI5aF3",
        "outputId": "2fca9f57-65ed-4c9d-82cf-73697a1dad27"
      },
      "execution_count": 37,
      "outputs": [
        {
          "output_type": "execute_result",
          "data": {
            "text/plain": [
              "is_genuine      0\n",
              "diagonal        0\n",
              "height_left     0\n",
              "height_right    0\n",
              "margin_low      0\n",
              "margin_up       0\n",
              "length          0\n",
              "dtype: int64"
            ]
          },
          "metadata": {},
          "execution_count": 37
        }
      ]
    },
    {
      "cell_type": "code",
      "source": [
        "df_final.describe()"
      ],
      "metadata": {
        "colab": {
          "base_uri": "https://localhost:8080/",
          "height": 300
        },
        "id": "_wemGfJ3-JAq",
        "outputId": "c26ddcfa-0338-4cc8-dd5f-2116dd101f5a"
      },
      "execution_count": 38,
      "outputs": [
        {
          "output_type": "execute_result",
          "data": {
            "text/plain": [
              "        is_genuine     diagonal  height_left  height_right   margin_low  \\\n",
              "count  1500.000000  1500.000000  1500.000000   1500.000000  1500.000000   \n",
              "mean      0.666667   171.958440   104.029533    103.920307     4.482836   \n",
              "std       0.471562     0.305195     0.299462      0.325627     0.659845   \n",
              "min       0.000000   171.040000   103.140000    102.820000     2.980000   \n",
              "25%       0.000000   171.750000   103.820000    103.710000     4.027500   \n",
              "50%       1.000000   171.960000   104.040000    103.920000     4.310000   \n",
              "75%       1.000000   172.170000   104.230000    104.150000     4.870000   \n",
              "max       1.000000   173.010000   104.880000    104.950000     6.900000   \n",
              "\n",
              "         margin_up      length  \n",
              "count  1500.000000  1500.00000  \n",
              "mean      3.151473   112.67850  \n",
              "std       0.231813     0.87273  \n",
              "min       2.270000   109.49000  \n",
              "25%       2.990000   112.03000  \n",
              "50%       3.140000   112.96000  \n",
              "75%       3.310000   113.34000  \n",
              "max       3.910000   114.44000  "
            ],
            "text/html": [
              "\n",
              "  <div id=\"df-b2e409a6-4672-4e0e-9b16-a8e3f499ad94\">\n",
              "    <div class=\"colab-df-container\">\n",
              "      <div>\n",
              "<style scoped>\n",
              "    .dataframe tbody tr th:only-of-type {\n",
              "        vertical-align: middle;\n",
              "    }\n",
              "\n",
              "    .dataframe tbody tr th {\n",
              "        vertical-align: top;\n",
              "    }\n",
              "\n",
              "    .dataframe thead th {\n",
              "        text-align: right;\n",
              "    }\n",
              "</style>\n",
              "<table border=\"1\" class=\"dataframe\">\n",
              "  <thead>\n",
              "    <tr style=\"text-align: right;\">\n",
              "      <th></th>\n",
              "      <th>is_genuine</th>\n",
              "      <th>diagonal</th>\n",
              "      <th>height_left</th>\n",
              "      <th>height_right</th>\n",
              "      <th>margin_low</th>\n",
              "      <th>margin_up</th>\n",
              "      <th>length</th>\n",
              "    </tr>\n",
              "  </thead>\n",
              "  <tbody>\n",
              "    <tr>\n",
              "      <th>count</th>\n",
              "      <td>1500.000000</td>\n",
              "      <td>1500.000000</td>\n",
              "      <td>1500.000000</td>\n",
              "      <td>1500.000000</td>\n",
              "      <td>1500.000000</td>\n",
              "      <td>1500.000000</td>\n",
              "      <td>1500.00000</td>\n",
              "    </tr>\n",
              "    <tr>\n",
              "      <th>mean</th>\n",
              "      <td>0.666667</td>\n",
              "      <td>171.958440</td>\n",
              "      <td>104.029533</td>\n",
              "      <td>103.920307</td>\n",
              "      <td>4.482836</td>\n",
              "      <td>3.151473</td>\n",
              "      <td>112.67850</td>\n",
              "    </tr>\n",
              "    <tr>\n",
              "      <th>std</th>\n",
              "      <td>0.471562</td>\n",
              "      <td>0.305195</td>\n",
              "      <td>0.299462</td>\n",
              "      <td>0.325627</td>\n",
              "      <td>0.659845</td>\n",
              "      <td>0.231813</td>\n",
              "      <td>0.87273</td>\n",
              "    </tr>\n",
              "    <tr>\n",
              "      <th>min</th>\n",
              "      <td>0.000000</td>\n",
              "      <td>171.040000</td>\n",
              "      <td>103.140000</td>\n",
              "      <td>102.820000</td>\n",
              "      <td>2.980000</td>\n",
              "      <td>2.270000</td>\n",
              "      <td>109.49000</td>\n",
              "    </tr>\n",
              "    <tr>\n",
              "      <th>25%</th>\n",
              "      <td>0.000000</td>\n",
              "      <td>171.750000</td>\n",
              "      <td>103.820000</td>\n",
              "      <td>103.710000</td>\n",
              "      <td>4.027500</td>\n",
              "      <td>2.990000</td>\n",
              "      <td>112.03000</td>\n",
              "    </tr>\n",
              "    <tr>\n",
              "      <th>50%</th>\n",
              "      <td>1.000000</td>\n",
              "      <td>171.960000</td>\n",
              "      <td>104.040000</td>\n",
              "      <td>103.920000</td>\n",
              "      <td>4.310000</td>\n",
              "      <td>3.140000</td>\n",
              "      <td>112.96000</td>\n",
              "    </tr>\n",
              "    <tr>\n",
              "      <th>75%</th>\n",
              "      <td>1.000000</td>\n",
              "      <td>172.170000</td>\n",
              "      <td>104.230000</td>\n",
              "      <td>104.150000</td>\n",
              "      <td>4.870000</td>\n",
              "      <td>3.310000</td>\n",
              "      <td>113.34000</td>\n",
              "    </tr>\n",
              "    <tr>\n",
              "      <th>max</th>\n",
              "      <td>1.000000</td>\n",
              "      <td>173.010000</td>\n",
              "      <td>104.880000</td>\n",
              "      <td>104.950000</td>\n",
              "      <td>6.900000</td>\n",
              "      <td>3.910000</td>\n",
              "      <td>114.44000</td>\n",
              "    </tr>\n",
              "  </tbody>\n",
              "</table>\n",
              "</div>\n",
              "      <button class=\"colab-df-convert\" onclick=\"convertToInteractive('df-b2e409a6-4672-4e0e-9b16-a8e3f499ad94')\"\n",
              "              title=\"Convert this dataframe to an interactive table.\"\n",
              "              style=\"display:none;\">\n",
              "        \n",
              "  <svg xmlns=\"http://www.w3.org/2000/svg\" height=\"24px\"viewBox=\"0 0 24 24\"\n",
              "       width=\"24px\">\n",
              "    <path d=\"M0 0h24v24H0V0z\" fill=\"none\"/>\n",
              "    <path d=\"M18.56 5.44l.94 2.06.94-2.06 2.06-.94-2.06-.94-.94-2.06-.94 2.06-2.06.94zm-11 1L8.5 8.5l.94-2.06 2.06-.94-2.06-.94L8.5 2.5l-.94 2.06-2.06.94zm10 10l.94 2.06.94-2.06 2.06-.94-2.06-.94-.94-2.06-.94 2.06-2.06.94z\"/><path d=\"M17.41 7.96l-1.37-1.37c-.4-.4-.92-.59-1.43-.59-.52 0-1.04.2-1.43.59L10.3 9.45l-7.72 7.72c-.78.78-.78 2.05 0 2.83L4 21.41c.39.39.9.59 1.41.59.51 0 1.02-.2 1.41-.59l7.78-7.78 2.81-2.81c.8-.78.8-2.07 0-2.86zM5.41 20L4 18.59l7.72-7.72 1.47 1.35L5.41 20z\"/>\n",
              "  </svg>\n",
              "      </button>\n",
              "      \n",
              "  <style>\n",
              "    .colab-df-container {\n",
              "      display:flex;\n",
              "      flex-wrap:wrap;\n",
              "      gap: 12px;\n",
              "    }\n",
              "\n",
              "    .colab-df-convert {\n",
              "      background-color: #E8F0FE;\n",
              "      border: none;\n",
              "      border-radius: 50%;\n",
              "      cursor: pointer;\n",
              "      display: none;\n",
              "      fill: #1967D2;\n",
              "      height: 32px;\n",
              "      padding: 0 0 0 0;\n",
              "      width: 32px;\n",
              "    }\n",
              "\n",
              "    .colab-df-convert:hover {\n",
              "      background-color: #E2EBFA;\n",
              "      box-shadow: 0px 1px 2px rgba(60, 64, 67, 0.3), 0px 1px 3px 1px rgba(60, 64, 67, 0.15);\n",
              "      fill: #174EA6;\n",
              "    }\n",
              "\n",
              "    [theme=dark] .colab-df-convert {\n",
              "      background-color: #3B4455;\n",
              "      fill: #D2E3FC;\n",
              "    }\n",
              "\n",
              "    [theme=dark] .colab-df-convert:hover {\n",
              "      background-color: #434B5C;\n",
              "      box-shadow: 0px 1px 3px 1px rgba(0, 0, 0, 0.15);\n",
              "      filter: drop-shadow(0px 1px 2px rgba(0, 0, 0, 0.3));\n",
              "      fill: #FFFFFF;\n",
              "    }\n",
              "  </style>\n",
              "\n",
              "      <script>\n",
              "        const buttonEl =\n",
              "          document.querySelector('#df-b2e409a6-4672-4e0e-9b16-a8e3f499ad94 button.colab-df-convert');\n",
              "        buttonEl.style.display =\n",
              "          google.colab.kernel.accessAllowed ? 'block' : 'none';\n",
              "\n",
              "        async function convertToInteractive(key) {\n",
              "          const element = document.querySelector('#df-b2e409a6-4672-4e0e-9b16-a8e3f499ad94');\n",
              "          const dataTable =\n",
              "            await google.colab.kernel.invokeFunction('convertToInteractive',\n",
              "                                                     [key], {});\n",
              "          if (!dataTable) return;\n",
              "\n",
              "          const docLinkHtml = 'Like what you see? Visit the ' +\n",
              "            '<a target=\"_blank\" href=https://colab.research.google.com/notebooks/data_table.ipynb>data table notebook</a>'\n",
              "            + ' to learn more about interactive tables.';\n",
              "          element.innerHTML = '';\n",
              "          dataTable['output_type'] = 'display_data';\n",
              "          await google.colab.output.renderOutput(dataTable, element);\n",
              "          const docLink = document.createElement('div');\n",
              "          docLink.innerHTML = docLinkHtml;\n",
              "          element.appendChild(docLink);\n",
              "        }\n",
              "      </script>\n",
              "    </div>\n",
              "  </div>\n",
              "  "
            ]
          },
          "metadata": {},
          "execution_count": 38
        }
      ]
    },
    {
      "cell_type": "markdown",
      "source": [
        "# **V. Résidus**"
      ],
      "metadata": {
        "id": "nWUz86cnh8do"
      }
    },
    {
      "cell_type": "code",
      "source": [
        "x_test = df_training_vf.loc[:,['is_genuine','margin_up']]\n",
        "y_test = df_training['margin_low']"
      ],
      "metadata": {
        "id": "kFZxff5gzfGH"
      },
      "execution_count": 42,
      "outputs": []
    },
    {
      "cell_type": "code",
      "source": [
        "# Représentation de nos erreurs avec un histogramme\n",
        "y_pred=reg_multi.predict(x_test)\n",
        "erreur_hi=np.abs(y_test-y_pred)\n",
        "plt.hist(erreur_hi,bins=50)\n",
        "plt.show()"
      ],
      "metadata": {
        "colab": {
          "base_uri": "https://localhost:8080/",
          "height": 270
        },
        "id": "9p9Ye-0Xz29C",
        "outputId": "57b77c9d-1786-4f2b-f21d-fb1fcaae4ac1"
      },
      "execution_count": 43,
      "outputs": [
        {
          "output_type": "display_data",
          "data": {
            "text/plain": [
              "<Figure size 432x288 with 1 Axes>"
            ],
            "image/png": "[encoded data removed]"
          },
          "metadata": {}
        }
      ]
    },
    {
      "cell_type": "markdown",
      "source": [
        "Vérifier la normalités des résidus "
      ],
      "metadata": {
        "id": "UZ8Adlz40BNw"
      }
    },
    {
      "cell_type": "code",
      "source": [
        "# Moyenne des résidus\n",
        "moy_residus = y_test-y_pred\n",
        "moy_residus .mean()"
      ],
      "metadata": {
        "colab": {
          "base_uri": "https://localhost:8080/"
        },
        "id": "4QRk0_2Lmsgk",
        "outputId": "ae6fdf55-22a3-4679-858f-1cc1afaccccb"
      },
      "execution_count": 44,
      "outputs": [
        {
          "output_type": "execute_result",
          "data": {
            "text/plain": [
              "-0.0011155835228046863"
            ]
          },
          "metadata": {},
          "execution_count": 44
        }
      ]
    },
    {
      "cell_type": "markdown",
      "source": [
        "-0.0011155835228047009 étant proche de 0, nous pouvons considérer que cette hypothèse est validée.\n"
      ],
      "metadata": {
        "id": "P1Qxri_EnQco"
      }
    },
    {
      "cell_type": "code",
      "source": [
        "sns.distplot(moy_residus)"
      ],
      "metadata": {
        "colab": {
          "base_uri": "https://localhost:8080/",
          "height": 340
        },
        "id": "m7KXdpR5q80A",
        "outputId": "508eaead-9279-4545-c812-635cfda0fa1f"
      },
      "execution_count": 45,
      "outputs": [
        {
          "output_type": "stream",
          "name": "stderr",
          "text": [
            "/usr/local/lib/python3.8/dist-packages/seaborn/distributions.py:2619: FutureWarning: `distplot` is a deprecated function and will be removed in a future version. Please adapt your code to use either `displot` (a figure-level function with similar flexibility) or `histplot` (an axes-level function for histograms).\n",
            "  warnings.warn(msg, FutureWarning)\n"
          ]
        },
        {
          "output_type": "execute_result",
          "data": {
            "text/plain": [
              "<matplotlib.axes._subplots.AxesSubplot at 0x7f63692a39a0>"
            ]
          },
          "metadata": {},
          "execution_count": 45
        },
        {
          "output_type": "display_data",
          "data": {
            "text/plain": [
              "<Figure size 432x288 with 1 Axes>"
            ],
            "image/png": "[encoded data removed]"
          },
          "metadata": {}
        }
      ]
    },
    {
      "cell_type": "code",
      "source": [
        "import scipy as sp\n",
        "fig, ax = plt.subplots(figsize=(6,2.5))\n",
        "_, (__, ___, r) = sp.stats.probplot(moy_residus, plot=ax, fit=True)"
      ],
      "metadata": {
        "colab": {
          "base_uri": "https://localhost:8080/",
          "height": 219
        },
        "id": "GwMCusj81C5i",
        "outputId": "0874bfdc-f201-485b-e515-2ba5246a8064"
      },
      "execution_count": 46,
      "outputs": [
        {
          "output_type": "display_data",
          "data": {
            "text/plain": [
              "<Figure size 432x180 with 1 Axes>"
            ],
            "image/png": "[encoded data removed]"
          },
          "metadata": {}
        }
      ]
    },
    {
      "cell_type": "markdown",
      "source": [
        "\n",
        "\n",
        "\n",
        "*   Vérifier la colinéarité des variables\n",
        "\n",
        "\n",
        "Une autre chose à vérifier est l'éventuelle colinéarité approchée des variables :"
      ],
      "metadata": {
        "id": "Z2_plXp9pmE1"
      }
    },
    {
      "cell_type": "code",
      "source": [
        "variables = reg_multi_lin.model.exog\n",
        "[variance_inflation_factor(variables, i) for i in np.arange(1,variables.shape[1])]"
      ],
      "metadata": {
        "colab": {
          "base_uri": "https://localhost:8080/"
        },
        "id": "BybqdsQFozCR",
        "outputId": "cc3211bc-a7c0-40b7-fdbf-a23c0c7d2d4f"
      },
      "execution_count": 47,
      "outputs": [
        {
          "output_type": "execute_result",
          "data": {
            "text/plain": [
              "[1.586122883225347, 1.586122883225347]"
            ]
          },
          "metadata": {},
          "execution_count": 47
        }
      ]
    },
    {
      "cell_type": "markdown",
      "source": [
        "Ici, tous les coefficients sont inférieurs à 10, il n'y a donc pas de problème de colinéarité."
      ],
      "metadata": {
        "id": "AbrmgwWpp0xY"
      }
    },
    {
      "cell_type": "code",
      "source": [
        "_, pval, __, f_pval = statsmodels.stats.diagnostic.het_breuschpagan(reg_multi_lin.resid, variables)\n",
        "print('p value test Breusch Pagan:', pval)"
      ],
      "metadata": {
        "colab": {
          "base_uri": "https://localhost:8080/"
        },
        "id": "ZjG69s4aqFtU",
        "outputId": "c9b70701-7ead-4b38-b90f-97c529447e19"
      },
      "execution_count": 48,
      "outputs": [
        {
          "output_type": "stream",
          "name": "stdout",
          "text": [
            "p value test Breusch Pagan: 7.321149750524877e-36\n"
          ]
        }
      ]
    },
    {
      "cell_type": "code",
      "source": [
        "fig, ax = plt.subplots(figsize=(6,2.5))\n",
        "_= ax.scatter(y_test,moy_residus)"
      ],
      "metadata": {
        "colab": {
          "base_uri": "https://localhost:8080/",
          "height": 186
        },
        "id": "5kLntVMuvHPp",
        "outputId": "83397203-6ff4-45ef-c4a7-6eefe0d283a3"
      },
      "execution_count": 49,
      "outputs": [
        {
          "output_type": "display_data",
          "data": {
            "text/plain": [
              "<Figure size 432x180 with 1 Axes>"
            ],
            "image/png": "[encoded data removed]"
          },
          "metadata": {}
        }
      ]
    },
    {
      "cell_type": "markdown",
      "source": [
        "\n",
        "\n",
        "\n",
        "*   Déterminez la distance de Cook\n",
        "\n",
        "\n",
        "Pour trouver la distance de Cook, nous exécutons ceci :"
      ],
      "metadata": {
        "id": "tVa8dKH9uSTB"
      }
    },
    {
      "cell_type": "code",
      "source": [
        "influence = reg_multi_lin.get_influence().summary_frame()"
      ],
      "metadata": {
        "id": "jMJuRJzOueOL"
      },
      "execution_count": 50,
      "outputs": []
    },
    {
      "cell_type": "code",
      "source": [
        "analyses['dcooks'] = influence['cooks_d']\n",
        "seuil_dcook = 7/(n-p)"
      ],
      "metadata": {
        "id": "QcLPQVA9umSD",
        "colab": {
          "base_uri": "https://localhost:8080/",
          "height": 184
        },
        "outputId": "62bae889-abf4-41b0-a6a8-dcbb4350891b"
      },
      "execution_count": 57,
      "outputs": [
        {
          "output_type": "error",
          "ename": "NameError",
          "evalue": "ignored",
          "traceback": [
            "\u001b[0;31m---------------------------------------------------------------------------\u001b[0m",
            "\u001b[0;31mNameError\u001b[0m                                 Traceback (most recent call last)",
            "\u001b[0;32m<ipython-input-57-1a8f9afdd242>\u001b[0m in \u001b[0;36m<module>\u001b[0;34m\u001b[0m\n\u001b[0;32m----> 1\u001b[0;31m \u001b[0manalyses\u001b[0m\u001b[0;34m[\u001b[0m\u001b[0;34m'dcooks'\u001b[0m\u001b[0;34m]\u001b[0m \u001b[0;34m=\u001b[0m \u001b[0minfluence\u001b[0m\u001b[0;34m[\u001b[0m\u001b[0;34m'cooks_d'\u001b[0m\u001b[0;34m]\u001b[0m\u001b[0;34m\u001b[0m\u001b[0;34m\u001b[0m\u001b[0m\n\u001b[0m\u001b[1;32m      2\u001b[0m \u001b[0mseuil_dcook\u001b[0m \u001b[0;34m=\u001b[0m \u001b[0;36m7\u001b[0m\u001b[0;34m/\u001b[0m\u001b[0;34m(\u001b[0m\u001b[0mn\u001b[0m\u001b[0;34m-\u001b[0m\u001b[0mp\u001b[0m\u001b[0;34m)\u001b[0m\u001b[0;34m\u001b[0m\u001b[0;34m\u001b[0m\u001b[0m\n",
            "\u001b[0;31mNameError\u001b[0m: name 'analyses' is not defined"
          ]
        }
      ]
    },
    {
      "cell_type": "markdown",
      "source": [
        "On peut détecter les observations influentes comme ceci :"
      ],
      "metadata": {
        "id": "gOdqB_jaus4W"
      }
    },
    {
      "cell_type": "code",
      "source": [
        "plt.figure(figsize=(10,6))\n",
        "plt.bar(analyses['obs'], analyses['dcooks'])\n",
        "plt.xticks(np.arange(0, 115, step=5))\n",
        "plt.xlabel('Observation')\n",
        "plt.ylabel('Leviers')\n",
        "plt.plot([0, 115], [seuil_dcook, seuil_dcook], color='r')\n",
        "plt.show()"
      ],
      "metadata": {
        "id": "w8-vc323uqEb",
        "colab": {
          "base_uri": "https://localhost:8080/",
          "height": 253
        },
        "outputId": "c98a349f-9a22-4045-bdc3-e2a470cb0af7"
      },
      "execution_count": 52,
      "outputs": [
        {
          "output_type": "error",
          "ename": "NameError",
          "evalue": "ignored",
          "traceback": [
            "\u001b[0;31m---------------------------------------------------------------------------\u001b[0m",
            "\u001b[0;31mNameError\u001b[0m                                 Traceback (most recent call last)",
            "\u001b[0;32m<ipython-input-52-a3d0f9f53137>\u001b[0m in \u001b[0;36m<module>\u001b[0;34m\u001b[0m\n\u001b[1;32m      1\u001b[0m \u001b[0mplt\u001b[0m\u001b[0;34m.\u001b[0m\u001b[0mfigure\u001b[0m\u001b[0;34m(\u001b[0m\u001b[0mfigsize\u001b[0m\u001b[0;34m=\u001b[0m\u001b[0;34m(\u001b[0m\u001b[0;36m10\u001b[0m\u001b[0;34m,\u001b[0m\u001b[0;36m6\u001b[0m\u001b[0;34m)\u001b[0m\u001b[0;34m)\u001b[0m\u001b[0;34m\u001b[0m\u001b[0;34m\u001b[0m\u001b[0m\n\u001b[0;32m----> 2\u001b[0;31m \u001b[0mplt\u001b[0m\u001b[0;34m.\u001b[0m\u001b[0mbar\u001b[0m\u001b[0;34m(\u001b[0m\u001b[0manalyses\u001b[0m\u001b[0;34m[\u001b[0m\u001b[0;34m'obs'\u001b[0m\u001b[0;34m]\u001b[0m\u001b[0;34m,\u001b[0m \u001b[0manalyses\u001b[0m\u001b[0;34m[\u001b[0m\u001b[0;34m'dcooks'\u001b[0m\u001b[0;34m]\u001b[0m\u001b[0;34m)\u001b[0m\u001b[0;34m\u001b[0m\u001b[0;34m\u001b[0m\u001b[0m\n\u001b[0m\u001b[1;32m      3\u001b[0m \u001b[0mplt\u001b[0m\u001b[0;34m.\u001b[0m\u001b[0mxticks\u001b[0m\u001b[0;34m(\u001b[0m\u001b[0mnp\u001b[0m\u001b[0;34m.\u001b[0m\u001b[0marange\u001b[0m\u001b[0;34m(\u001b[0m\u001b[0;36m0\u001b[0m\u001b[0;34m,\u001b[0m \u001b[0;36m115\u001b[0m\u001b[0;34m,\u001b[0m \u001b[0mstep\u001b[0m\u001b[0;34m=\u001b[0m\u001b[0;36m5\u001b[0m\u001b[0;34m)\u001b[0m\u001b[0;34m)\u001b[0m\u001b[0;34m\u001b[0m\u001b[0;34m\u001b[0m\u001b[0m\n\u001b[1;32m      4\u001b[0m \u001b[0mplt\u001b[0m\u001b[0;34m.\u001b[0m\u001b[0mxlabel\u001b[0m\u001b[0;34m(\u001b[0m\u001b[0;34m'Observation'\u001b[0m\u001b[0;34m)\u001b[0m\u001b[0;34m\u001b[0m\u001b[0;34m\u001b[0m\u001b[0m\n\u001b[1;32m      5\u001b[0m \u001b[0mplt\u001b[0m\u001b[0;34m.\u001b[0m\u001b[0mylabel\u001b[0m\u001b[0;34m(\u001b[0m\u001b[0;34m'Leviers'\u001b[0m\u001b[0;34m)\u001b[0m\u001b[0;34m\u001b[0m\u001b[0;34m\u001b[0m\u001b[0m\n",
            "\u001b[0;31mNameError\u001b[0m: name 'analyses' is not defined"
          ]
        },
        {
          "output_type": "display_data",
          "data": {
            "text/plain": [
              "<Figure size 720x432 with 0 Axes>"
            ]
          },
          "metadata": {}
        }
      ]
    },
    {
      "cell_type": "markdown",
      "source": [
        "# **VI. Evaluation du modèle**"
      ],
      "metadata": {
        "id": "Bh4XDz1ZHYk1"
      }
    },
    {
      "cell_type": "markdown",
      "source": [
        "# **a) Régression  Logistique - Classification**"
      ],
      "metadata": {
        "id": "lQg-GIjY8B62"
      }
    },
    {
      "cell_type": "markdown",
      "source": [
        "L'objectif d'une régression logistique est de créer un modèle prédictif. \n",
        "Nous souhaitons expliquer une variable qualitative (vrai/faux) par des données quantitatives = regression logistique.\n",
        "Nous devons donc isoler les données quantitatives et qualitatives. \n"
      ],
      "metadata": {
        "id": "ilIrau5F4V_N"
      }
    },
    {
      "cell_type": "code",
      "source": [
        "# Données qualitatives\n",
        "y = df_final.loc[:, df_final.columns == \"is_genuine\"]\n",
        "print(y.value_counts())\n",
        "\n",
        "# Données quantitatives\n",
        "#Il faut ajouter une constante dans Statsmodels\n",
        "x = df_final.loc[:, df_final.columns != \"is_genuine\"]\n",
        "x = sm.tools.add_constant(x)                      \n",
        "print(x.head())"
      ],
      "metadata": {
        "id": "parJnbia4kKq"
      },
      "execution_count": null,
      "outputs": []
    },
    {
      "cell_type": "code",
      "source": [
        "# on ajuste le modèle\n",
        "model = sm.Logit(y, x)\n",
        "result = model.fit()\n",
        "\n",
        "print(result.summary())"
      ],
      "metadata": {
        "colab": {
          "base_uri": "https://localhost:8080/"
        },
        "id": "NTnM62cj6NW1",
        "outputId": "f82ff907-ebda-4538-f3a8-5e4cf0736545"
      },
      "execution_count": 100,
      "outputs": [
        {
          "output_type": "stream",
          "name": "stdout",
          "text": [
            "Optimization terminated successfully.\n",
            "         Current function value: 0.026325\n",
            "         Iterations 13\n",
            "                           Logit Regression Results                           \n",
            "==============================================================================\n",
            "Dep. Variable:             is_genuine   No. Observations:                 1500\n",
            "Model:                          Logit   Df Residuals:                     1493\n",
            "Method:                           MLE   Df Model:                            6\n",
            "Date:                Thu, 23 Feb 2023   Pseudo R-squ.:                  0.9586\n",
            "Time:                        15:35:01   Log-Likelihood:                -39.487\n",
            "converged:                       True   LL-Null:                       -954.77\n",
            "Covariance Type:            nonrobust   LLR p-value:                     0.000\n",
            "================================================================================\n",
            "                   coef    std err          z      P>|z|      [0.025      0.975]\n",
            "--------------------------------------------------------------------------------\n",
            "const         -231.2872    249.976     -0.925      0.355    -721.231     258.657\n",
            "diagonal         0.2683      1.137      0.236      0.813      -1.960       2.497\n",
            "height_left     -1.2723      1.118     -1.138      0.255      -3.464       0.919\n",
            "height_right    -2.9184      1.150     -2.538      0.011      -5.172      -0.665\n",
            "margin_low      -6.0199      0.987     -6.101      0.000      -7.954      -4.086\n",
            "margin_up      -10.2999      2.206     -4.668      0.000     -14.624      -5.975\n",
            "length           6.0566      0.897      6.751      0.000       4.298       7.815\n",
            "================================================================================\n",
            "\n",
            "Possibly complete quasi-separation: A fraction 0.53 of observations can be\n",
            "perfectly predicted. This might indicate that there is complete\n",
            "quasi-separation. In this case some parameters will not be identified.\n"
          ]
        }
      ]
    },
    {
      "cell_type": "markdown",
      "source": [
        "Il y a des variables non-significatives au seuil alpha 5%.\n",
        "Nous pouvons recommencer la régression logistique sans les variables: diagonal, height_left, height_right.\n"
      ],
      "metadata": {
        "id": "opNXlZMV6v6G"
      }
    },
    {
      "cell_type": "code",
      "source": [
        "# On ne garde que les variables significatives a alpha = 5% dans X_Billet:\n",
        "x2 = df_final[[\"height_right\",\"margin_low\", \"margin_up\", \"length\"]]\n",
        "x2 = sm.add_constant(df_final)\n",
        "\n",
        "# On recommence la regression logistique:\n",
        "reg_log = sm.Logit(y, x2)\n",
        "result2 = model.fit()\n",
        "\n",
        "# Resume des resultats:\n",
        "print(result2.summary2())"
      ],
      "metadata": {
        "colab": {
          "base_uri": "https://localhost:8080/"
        },
        "id": "q9NbXL3U9c7Y",
        "outputId": "564d07e0-d63c-4ce7-b29f-e2f47332ea84"
      },
      "execution_count": 105,
      "outputs": [
        {
          "output_type": "stream",
          "name": "stdout",
          "text": [
            "Optimization terminated successfully.\n",
            "         Current function value: 0.026325\n",
            "         Iterations 13\n",
            "                         Results: Logit\n",
            "=================================================================\n",
            "Model:                Logit            Pseudo R-squared: 0.959   \n",
            "Dependent Variable:   is_genuine       AIC:              92.9738 \n",
            "Date:                 2023-02-23 15:51 BIC:              130.1664\n",
            "No. Observations:     1500             Log-Likelihood:   -39.487 \n",
            "Df Model:             6                LL-Null:          -954.77 \n",
            "Df Residuals:         1493             LLR p-value:      0.0000  \n",
            "Converged:            1.0000           Scale:            1.0000  \n",
            "No. Iterations:       13.0000                                    \n",
            "-----------------------------------------------------------------\n",
            "               Coef.   Std.Err.    z    P>|z|    [0.025   0.975] \n",
            "-----------------------------------------------------------------\n",
            "const        -231.2872 249.9759 -0.9252 0.3548 -721.2311 258.6566\n",
            "diagonal        0.2683   1.1369  0.2360 0.8134   -1.9600   2.4965\n",
            "height_left    -1.2723   1.1182 -1.1378 0.2552   -3.4640   0.9193\n",
            "height_right   -2.9184   1.1497 -2.5385 0.0111   -5.1717  -0.6651\n",
            "margin_low     -6.0199   0.9866 -6.1014 0.0000   -7.9536  -4.0861\n",
            "margin_up     -10.2999   2.2064 -4.6682 0.0000  -14.6243  -5.9755\n",
            "length          6.0566   0.8972  6.7508 0.0000    4.2982   7.8150\n",
            "=================================================================\n",
            "\n"
          ]
        }
      ]
    },
    {
      "cell_type": "markdown",
      "source": [
        "# **b) K-NN**"
      ],
      "metadata": {
        "id": "yPe9_KAE_qyJ"
      }
    },
    {
      "cell_type": "code",
      "source": [
        "import numpy as np\n",
        "\n",
        "sample = np.random.randint(70000, size=5000)\n",
        "data = df_training.drop(\"margin_low\", axis=1)\n",
        "target = df_training[\"margin_low\"]"
      ],
      "metadata": {
        "id": "tKsIkyjdE2xc"
      },
      "execution_count": 129,
      "outputs": []
    },
    {
      "cell_type": "code",
      "source": [
        "# Creation de x_train et y_train pour spliter le df (80% et 20%):\n",
        "x_train = df_training.drop(\"margin_low\", axis=1)\n",
        "y_train = df_training[\"margin_low\"]"
      ],
      "metadata": {
        "id": "SXmtRDG1B9br"
      },
      "execution_count": 114,
      "outputs": []
    },
    {
      "cell_type": "code",
      "source": [
        "x_train, x_test, y_train, y_test = train_test_split(df_final.drop([\"is_genuine\"],axis=1), df_final[[\"is_genuine\"]], test_size=0.2)\n",
        "print(x_train.shape)\n",
        "print(x_test.shape)\n",
        "print(y_train.shape)\n",
        "print(y_test.shape)"
      ],
      "metadata": {
        "colab": {
          "base_uri": "https://localhost:8080/"
        },
        "id": "tVBQlwRpF_OE",
        "outputId": "bea20158-674c-4c25-8089-56f0905b33ab"
      },
      "execution_count": 140,
      "outputs": [
        {
          "output_type": "stream",
          "name": "stdout",
          "text": [
            "(1200, 6)\n",
            "(300, 6)\n",
            "(1200, 1)\n",
            "(300, 1)\n"
          ]
        }
      ]
    },
    {
      "cell_type": "code",
      "source": [
        "from sklearn import neighbors\n",
        "\n",
        "knn = neighbors.KNeighborsClassifier(n_neighbors=3)\n",
        "knn.fit(x_train, y_train)"
      ],
      "metadata": {
        "colab": {
          "base_uri": "https://localhost:8080/"
        },
        "id": "VgBfBwjABoHN",
        "outputId": "58427038-71ec-4e71-f0de-4be3138c3d26"
      },
      "execution_count": 137,
      "outputs": [
        {
          "output_type": "stream",
          "name": "stderr",
          "text": [
            "/usr/local/lib/python3.8/dist-packages/sklearn/neighbors/_classification.py:198: DataConversionWarning: A column-vector y was passed when a 1d array was expected. Please change the shape of y to (n_samples,), for example using ravel().\n",
            "  return self._fit(X, y)\n"
          ]
        },
        {
          "output_type": "execute_result",
          "data": {
            "text/plain": [
              "KNeighborsClassifier(n_neighbors=3)"
            ]
          },
          "metadata": {},
          "execution_count": 137
        }
      ]
    },
    {
      "cell_type": "code",
      "source": [
        "error = 1 - knn.score(x_test, y_test)\n",
        "print('Erreur: %f' % error)"
      ],
      "metadata": {
        "colab": {
          "base_uri": "https://localhost:8080/"
        },
        "id": "duf-eVl5EF9A",
        "outputId": "8af510b4-5117-47a0-a151-62ad79df583d"
      },
      "execution_count": 138,
      "outputs": [
        {
          "output_type": "stream",
          "name": "stdout",
          "text": [
            "Erreur: 0.006667\n"
          ]
        }
      ]
    },
    {
      "cell_type": "code",
      "source": [
        "# Optimisation du score sur les données test\n",
        "import matplotlib.pyplot as plt\n",
        "\n",
        "errors = []\n",
        "for k in range(2,15):\n",
        "    knn = neighbors.KNeighborsClassifier(k)\n",
        "    errors.append(100*(1 - knn.fit(x_train,y_train).score(x_test,y_test)))\n",
        "plt.plot(range(2,15), errors, 'o-')\n",
        "plt.show()"
      ],
      "metadata": {
        "colab": {
          "base_uri": "https://localhost:8080/",
          "height": 739
        },
        "id": "L86GWybbDoL1",
        "outputId": "866e8feb-1b60-4f7e-cbfd-c1a88988d01f"
      },
      "execution_count": 139,
      "outputs": [
        {
          "output_type": "stream",
          "name": "stderr",
          "text": [
            "/usr/local/lib/python3.8/dist-packages/sklearn/neighbors/_classification.py:198: DataConversionWarning: A column-vector y was passed when a 1d array was expected. Please change the shape of y to (n_samples,), for example using ravel().\n",
            "  return self._fit(X, y)\n",
            "/usr/local/lib/python3.8/dist-packages/sklearn/neighbors/_classification.py:198: DataConversionWarning: A column-vector y was passed when a 1d array was expected. Please change the shape of y to (n_samples,), for example using ravel().\n",
            "  return self._fit(X, y)\n",
            "/usr/local/lib/python3.8/dist-packages/sklearn/neighbors/_classification.py:198: DataConversionWarning: A column-vector y was passed when a 1d array was expected. Please change the shape of y to (n_samples,), for example using ravel().\n",
            "  return self._fit(X, y)\n",
            "/usr/local/lib/python3.8/dist-packages/sklearn/neighbors/_classification.py:198: DataConversionWarning: A column-vector y was passed when a 1d array was expected. Please change the shape of y to (n_samples,), for example using ravel().\n",
            "  return self._fit(X, y)\n",
            "/usr/local/lib/python3.8/dist-packages/sklearn/neighbors/_classification.py:198: DataConversionWarning: A column-vector y was passed when a 1d array was expected. Please change the shape of y to (n_samples,), for example using ravel().\n",
            "  return self._fit(X, y)\n",
            "/usr/local/lib/python3.8/dist-packages/sklearn/neighbors/_classification.py:198: DataConversionWarning: A column-vector y was passed when a 1d array was expected. Please change the shape of y to (n_samples,), for example using ravel().\n",
            "  return self._fit(X, y)\n",
            "/usr/local/lib/python3.8/dist-packages/sklearn/neighbors/_classification.py:198: DataConversionWarning: A column-vector y was passed when a 1d array was expected. Please change the shape of y to (n_samples,), for example using ravel().\n",
            "  return self._fit(X, y)\n",
            "/usr/local/lib/python3.8/dist-packages/sklearn/neighbors/_classification.py:198: DataConversionWarning: A column-vector y was passed when a 1d array was expected. Please change the shape of y to (n_samples,), for example using ravel().\n",
            "  return self._fit(X, y)\n",
            "/usr/local/lib/python3.8/dist-packages/sklearn/neighbors/_classification.py:198: DataConversionWarning: A column-vector y was passed when a 1d array was expected. Please change the shape of y to (n_samples,), for example using ravel().\n",
            "  return self._fit(X, y)\n",
            "/usr/local/lib/python3.8/dist-packages/sklearn/neighbors/_classification.py:198: DataConversionWarning: A column-vector y was passed when a 1d array was expected. Please change the shape of y to (n_samples,), for example using ravel().\n",
            "  return self._fit(X, y)\n",
            "/usr/local/lib/python3.8/dist-packages/sklearn/neighbors/_classification.py:198: DataConversionWarning: A column-vector y was passed when a 1d array was expected. Please change the shape of y to (n_samples,), for example using ravel().\n",
            "  return self._fit(X, y)\n",
            "/usr/local/lib/python3.8/dist-packages/sklearn/neighbors/_classification.py:198: DataConversionWarning: A column-vector y was passed when a 1d array was expected. Please change the shape of y to (n_samples,), for example using ravel().\n",
            "  return self._fit(X, y)\n",
            "/usr/local/lib/python3.8/dist-packages/sklearn/neighbors/_classification.py:198: DataConversionWarning: A column-vector y was passed when a 1d array was expected. Please change the shape of y to (n_samples,), for example using ravel().\n",
            "  return self._fit(X, y)\n"
          ]
        },
        {
          "output_type": "display_data",
          "data": {
            "text/plain": [
              "<Figure size 432x288 with 1 Axes>"
            ],
            "image/png": "[encoded data removed]"
          },
          "metadata": {
            "needs_background": "light"
          }
        }
      ]
    },
    {
      "cell_type": "markdown",
      "source": [
        "Comme on peut le voir, le k-NN le plus performant est celui pour lequel k = 4. On connaît donc notre classifieur final optimal : 4-nn. Ce qui veut dire que c'est celui qui classifie le mieux les données, et qui donc dans ce cas précis reconnaît au mieux les nombres écrits à la main.:"
      ],
      "metadata": {
        "id": "U6qGMI1cGSsV"
      }
    },
    {
      "cell_type": "code",
      "source": [
        "# On récupère le classifieur le plus performant\n",
        "knn = neighbors.KNeighborsClassifier(4)\n",
        "knn.fit(x_train, y_train)\n",
        "\n",
        "# On récupère les prédictions sur les données test\n",
        "predicted = knn.predict(x_test)\n",
        "\n",
        "for index, value in enumerate(select):\n",
        "    plt.subplot(3,4,index+1)\n",
        "    plt.axis('off')\n",
        "    plt.imshow(images[value],cmap=plt.cm.gray_r,interpolation=\"nearest\")\n",
        "    plt.title('Predicted: {}'.format( predicted[value]) )\n",
        "\n",
        "plt.show()"
      ],
      "metadata": {
        "colab": {
          "base_uri": "https://localhost:8080/",
          "height": 290
        },
        "id": "1LsRhmtYGu_Z",
        "outputId": "93e96676-0a0d-432f-eb22-19d5b9c21706"
      },
      "execution_count": 141,
      "outputs": [
        {
          "output_type": "stream",
          "name": "stderr",
          "text": [
            "/usr/local/lib/python3.8/dist-packages/sklearn/neighbors/_classification.py:198: DataConversionWarning: A column-vector y was passed when a 1d array was expected. Please change the shape of y to (n_samples,), for example using ravel().\n",
            "  return self._fit(X, y)\n"
          ]
        },
        {
          "output_type": "error",
          "ename": "TypeError",
          "evalue": "ignored",
          "traceback": [
            "\u001b[0;31m---------------------------------------------------------------------------\u001b[0m",
            "\u001b[0;31mTypeError\u001b[0m                                 Traceback (most recent call last)",
            "\u001b[0;32m<ipython-input-141-b82b612adb0b>\u001b[0m in \u001b[0;36m<module>\u001b[0;34m\u001b[0m\n\u001b[1;32m      6\u001b[0m \u001b[0mpredicted\u001b[0m \u001b[0;34m=\u001b[0m \u001b[0mknn\u001b[0m\u001b[0;34m.\u001b[0m\u001b[0mpredict\u001b[0m\u001b[0;34m(\u001b[0m\u001b[0mx_test\u001b[0m\u001b[0;34m)\u001b[0m\u001b[0;34m\u001b[0m\u001b[0;34m\u001b[0m\u001b[0m\n\u001b[1;32m      7\u001b[0m \u001b[0;34m\u001b[0m\u001b[0m\n\u001b[0;32m----> 8\u001b[0;31m \u001b[0;32mfor\u001b[0m \u001b[0mindex\u001b[0m\u001b[0;34m,\u001b[0m \u001b[0mvalue\u001b[0m \u001b[0;32min\u001b[0m \u001b[0menumerate\u001b[0m\u001b[0;34m(\u001b[0m\u001b[0mselect\u001b[0m\u001b[0;34m)\u001b[0m\u001b[0;34m:\u001b[0m\u001b[0;34m\u001b[0m\u001b[0;34m\u001b[0m\u001b[0m\n\u001b[0m\u001b[1;32m      9\u001b[0m     \u001b[0mplt\u001b[0m\u001b[0;34m.\u001b[0m\u001b[0msubplot\u001b[0m\u001b[0;34m(\u001b[0m\u001b[0;36m3\u001b[0m\u001b[0;34m,\u001b[0m\u001b[0;36m4\u001b[0m\u001b[0;34m,\u001b[0m\u001b[0mindex\u001b[0m\u001b[0;34m+\u001b[0m\u001b[0;36m1\u001b[0m\u001b[0;34m)\u001b[0m\u001b[0;34m\u001b[0m\u001b[0;34m\u001b[0m\u001b[0m\n\u001b[1;32m     10\u001b[0m     \u001b[0mplt\u001b[0m\u001b[0;34m.\u001b[0m\u001b[0maxis\u001b[0m\u001b[0;34m(\u001b[0m\u001b[0;34m'off'\u001b[0m\u001b[0;34m)\u001b[0m\u001b[0;34m\u001b[0m\u001b[0;34m\u001b[0m\u001b[0m\n",
            "\u001b[0;31mTypeError\u001b[0m: 'function' object is not iterable"
          ]
        }
      ]
    },
    {
      "cell_type": "markdown",
      "source": [
        "# **c) K-Means**"
      ],
      "metadata": {
        "id": "SDHx2EC_-TMM"
      }
    },
    {
      "cell_type": "code",
      "source": [
        "kmeans = df_final.loc[:,['diagonal','height_left','height_right','margin_low','margin_up','length']]\n",
        "kmeans.head()"
      ],
      "metadata": {
        "colab": {
          "base_uri": "https://localhost:8080/",
          "height": 206
        },
        "id": "aP81wi6b-vmx",
        "outputId": "b02d32f9-f804-4bc8-9fa8-9a0782351f18"
      },
      "execution_count": 79,
      "outputs": [
        {
          "output_type": "execute_result",
          "data": {
            "text/plain": [
              "   diagonal  height_left  height_right  margin_low  margin_up  length\n",
              "0    171.81       104.86        104.95        4.52       2.89  112.83\n",
              "1    171.46       103.36        103.66        3.77       2.99  113.09\n",
              "2    172.69       104.48        103.50        4.40       2.94  113.16\n",
              "3    171.36       103.91        103.94        3.62       3.01  113.51\n",
              "4    171.73       104.28        103.46        4.04       3.48  112.54"
            ],
            "text/html": [
              "\n",
              "  <div id=\"df-0492bf76-fcdc-4aa7-9cd5-5d61f4beb8ce\">\n",
              "    <div class=\"colab-df-container\">\n",
              "      <div>\n",
              "<style scoped>\n",
              "    .dataframe tbody tr th:only-of-type {\n",
              "        vertical-align: middle;\n",
              "    }\n",
              "\n",
              "    .dataframe tbody tr th {\n",
              "        vertical-align: top;\n",
              "    }\n",
              "\n",
              "    .dataframe thead th {\n",
              "        text-align: right;\n",
              "    }\n",
              "</style>\n",
              "<table border=\"1\" class=\"dataframe\">\n",
              "  <thead>\n",
              "    <tr style=\"text-align: right;\">\n",
              "      <th></th>\n",
              "      <th>diagonal</th>\n",
              "      <th>height_left</th>\n",
              "      <th>height_right</th>\n",
              "      <th>margin_low</th>\n",
              "      <th>margin_up</th>\n",
              "      <th>length</th>\n",
              "    </tr>\n",
              "  </thead>\n",
              "  <tbody>\n",
              "    <tr>\n",
              "      <th>0</th>\n",
              "      <td>171.81</td>\n",
              "      <td>104.86</td>\n",
              "      <td>104.95</td>\n",
              "      <td>4.52</td>\n",
              "      <td>2.89</td>\n",
              "      <td>112.83</td>\n",
              "    </tr>\n",
              "    <tr>\n",
              "      <th>1</th>\n",
              "      <td>171.46</td>\n",
              "      <td>103.36</td>\n",
              "      <td>103.66</td>\n",
              "      <td>3.77</td>\n",
              "      <td>2.99</td>\n",
              "      <td>113.09</td>\n",
              "    </tr>\n",
              "    <tr>\n",
              "      <th>2</th>\n",
              "      <td>172.69</td>\n",
              "      <td>104.48</td>\n",
              "      <td>103.50</td>\n",
              "      <td>4.40</td>\n",
              "      <td>2.94</td>\n",
              "      <td>113.16</td>\n",
              "    </tr>\n",
              "    <tr>\n",
              "      <th>3</th>\n",
              "      <td>171.36</td>\n",
              "      <td>103.91</td>\n",
              "      <td>103.94</td>\n",
              "      <td>3.62</td>\n",
              "      <td>3.01</td>\n",
              "      <td>113.51</td>\n",
              "    </tr>\n",
              "    <tr>\n",
              "      <th>4</th>\n",
              "      <td>171.73</td>\n",
              "      <td>104.28</td>\n",
              "      <td>103.46</td>\n",
              "      <td>4.04</td>\n",
              "      <td>3.48</td>\n",
              "      <td>112.54</td>\n",
              "    </tr>\n",
              "  </tbody>\n",
              "</table>\n",
              "</div>\n",
              "      <button class=\"colab-df-convert\" onclick=\"convertToInteractive('df-0492bf76-fcdc-4aa7-9cd5-5d61f4beb8ce')\"\n",
              "              title=\"Convert this dataframe to an interactive table.\"\n",
              "              style=\"display:none;\">\n",
              "        \n",
              "  <svg xmlns=\"http://www.w3.org/2000/svg\" height=\"24px\"viewBox=\"0 0 24 24\"\n",
              "       width=\"24px\">\n",
              "    <path d=\"M0 0h24v24H0V0z\" fill=\"none\"/>\n",
              "    <path d=\"M18.56 5.44l.94 2.06.94-2.06 2.06-.94-2.06-.94-.94-2.06-.94 2.06-2.06.94zm-11 1L8.5 8.5l.94-2.06 2.06-.94-2.06-.94L8.5 2.5l-.94 2.06-2.06.94zm10 10l.94 2.06.94-2.06 2.06-.94-2.06-.94-.94-2.06-.94 2.06-2.06.94z\"/><path d=\"M17.41 7.96l-1.37-1.37c-.4-.4-.92-.59-1.43-.59-.52 0-1.04.2-1.43.59L10.3 9.45l-7.72 7.72c-.78.78-.78 2.05 0 2.83L4 21.41c.39.39.9.59 1.41.59.51 0 1.02-.2 1.41-.59l7.78-7.78 2.81-2.81c.8-.78.8-2.07 0-2.86zM5.41 20L4 18.59l7.72-7.72 1.47 1.35L5.41 20z\"/>\n",
              "  </svg>\n",
              "      </button>\n",
              "      \n",
              "  <style>\n",
              "    .colab-df-container {\n",
              "      display:flex;\n",
              "      flex-wrap:wrap;\n",
              "      gap: 12px;\n",
              "    }\n",
              "\n",
              "    .colab-df-convert {\n",
              "      background-color: #E8F0FE;\n",
              "      border: none;\n",
              "      border-radius: 50%;\n",
              "      cursor: pointer;\n",
              "      display: none;\n",
              "      fill: #1967D2;\n",
              "      height: 32px;\n",
              "      padding: 0 0 0 0;\n",
              "      width: 32px;\n",
              "    }\n",
              "\n",
              "    .colab-df-convert:hover {\n",
              "      background-color: #E2EBFA;\n",
              "      box-shadow: 0px 1px 2px rgba(60, 64, 67, 0.3), 0px 1px 3px 1px rgba(60, 64, 67, 0.15);\n",
              "      fill: #174EA6;\n",
              "    }\n",
              "\n",
              "    [theme=dark] .colab-df-convert {\n",
              "      background-color: #3B4455;\n",
              "      fill: #D2E3FC;\n",
              "    }\n",
              "\n",
              "    [theme=dark] .colab-df-convert:hover {\n",
              "      background-color: #434B5C;\n",
              "      box-shadow: 0px 1px 3px 1px rgba(0, 0, 0, 0.15);\n",
              "      filter: drop-shadow(0px 1px 2px rgba(0, 0, 0, 0.3));\n",
              "      fill: #FFFFFF;\n",
              "    }\n",
              "  </style>\n",
              "\n",
              "      <script>\n",
              "        const buttonEl =\n",
              "          document.querySelector('#df-0492bf76-fcdc-4aa7-9cd5-5d61f4beb8ce button.colab-df-convert');\n",
              "        buttonEl.style.display =\n",
              "          google.colab.kernel.accessAllowed ? 'block' : 'none';\n",
              "\n",
              "        async function convertToInteractive(key) {\n",
              "          const element = document.querySelector('#df-0492bf76-fcdc-4aa7-9cd5-5d61f4beb8ce');\n",
              "          const dataTable =\n",
              "            await google.colab.kernel.invokeFunction('convertToInteractive',\n",
              "                                                     [key], {});\n",
              "          if (!dataTable) return;\n",
              "\n",
              "          const docLinkHtml = 'Like what you see? Visit the ' +\n",
              "            '<a target=\"_blank\" href=https://colab.research.google.com/notebooks/data_table.ipynb>data table notebook</a>'\n",
              "            + ' to learn more about interactive tables.';\n",
              "          element.innerHTML = '';\n",
              "          dataTable['output_type'] = 'display_data';\n",
              "          await google.colab.output.renderOutput(dataTable, element);\n",
              "          const docLink = document.createElement('div');\n",
              "          docLink.innerHTML = docLinkHtml;\n",
              "          element.appendChild(docLink);\n",
              "        }\n",
              "      </script>\n",
              "    </div>\n",
              "  </div>\n",
              "  "
            ]
          },
          "metadata": {},
          "execution_count": 79
        }
      ]
    },
    {
      "cell_type": "code",
      "source": [
        "# Selectionner les valeurs à utiliser pour notre analyse\n",
        "X = kmeans.values\n",
        "#Centrage / réduction des données pour que nos données puissent prendre la même importance\n",
        "std_scale = preprocessing.StandardScaler().fit(X)\n",
        "X_scaled = std_scale.transform(X)\n",
        "\n",
        "# Utilisation de la methode \"ward\"\n",
        "Z = linkage(X_scaled, method=\"ward\")\n",
        "Z[:2]"
      ],
      "metadata": {
        "id": "Pq45Ev4T-26s",
        "colab": {
          "base_uri": "https://localhost:8080/"
        },
        "outputId": "966b70f0-5be8-4105-ca1d-c80c80e0edd5"
      },
      "execution_count": 82,
      "outputs": [
        {
          "output_type": "execute_result",
          "data": {
            "text/plain": [
              "array([[3.61000000e+02, 9.04000000e+02, 1.69310141e-01, 2.00000000e+00],\n",
              "       [1.27000000e+02, 7.35000000e+02, 1.84326824e-01, 2.00000000e+00]])"
            ]
          },
          "metadata": {},
          "execution_count": 82
        }
      ]
    },
    {
      "cell_type": "code",
      "source": [
        "#On applique ensuite la fonction fclusters de scipypour définir les clusters :\n",
        "#Identification des 7 groupes obtenus\n",
        "clusters = fcluster(Z, 2, criterion='maxclust')\n",
        "clusters"
      ],
      "metadata": {
        "colab": {
          "base_uri": "https://localhost:8080/"
        },
        "id": "5spG2kCdxzZa",
        "outputId": "cd6d455d-7728-412f-b113-539af2dd2068"
      },
      "execution_count": 81,
      "outputs": [
        {
          "output_type": "execute_result",
          "data": {
            "text/plain": [
              "array([2, 2, 2, ..., 1, 1, 1], dtype=int32)"
            ]
          },
          "metadata": {},
          "execution_count": 81
        }
      ]
    },
    {
      "cell_type": "code",
      "source": [
        "inertia = []\n",
        "k_range=range(1,10)\n",
        "for k in k_range:\n",
        "    modelkm=KMeans(n_clusters=k).fit(X_scaled)\n",
        "    inertia.append(modelkm.inertia_)\n",
        "   \n",
        "fig = plt.figure(figsize=(8,6))\n",
        "plt.plot(k_range,inertia )\n",
        "plt.xlabel('nombre de clusters')\n",
        "plt.ylabel('Inertie')\n",
        "plt.grid() \n",
        "plt.show()\n",
        "print('Inertie totale :',modelkm.inertia_)"
      ],
      "metadata": {
        "id": "-cmPPTVA-7pC"
      },
      "execution_count": null,
      "outputs": []
    },
    {
      "cell_type": "code",
      "source": [
        "%pylab inline\n",
        "from sklearn import cluster, metrics\n",
        "\n",
        "silhouettes = []\n",
        "\n",
        "for num_clusters in range(2,10):\n",
        "    cls = cluster.KMeans(n_clusters = num_clusters,\n",
        "                         n_init=1, init=\"random\")\n",
        "    cls.fit(X_scaled)\n",
        "    silh = metrics.silhouette_score(X_scaled, cls.labels_)\n",
        "    silhouettes.append(silh)\n",
        "\n",
        "plt.plot(range(2,10), silhouettes, marker='o')"
      ],
      "metadata": {
        "id": "tZlLXiQeqbN-"
      },
      "execution_count": null,
      "outputs": []
    },
    {
      "cell_type": "code",
      "source": [
        "from sklearn import cluster, metrics\n",
        "# Nous déffinissons 2 clusters pour notre modèle et entrainons le sur le jeu d'entrainement\n",
        "model_km = KMeans(n_clusters=2)\n",
        "km=model_km.fit(X_scaled)\n",
        "km.predict(X_scaled)\n",
        "\n",
        "# évaluer avec le jeu de test\n",
        "h=km.predict(X_scaled)\n",
        "\n",
        "# inverser les valeur tel que vrai billet=1 et faux billet=0\n",
        "a = 1-h\n",
        "#ypred.inertia_\n",
        "print('Inertie totale :',km.inertia_)"
      ],
      "metadata": {
        "colab": {
          "base_uri": "https://localhost:8080/"
        },
        "id": "uXpGwjFi24wB",
        "outputId": "40654159-2584-4dcd-be6c-df081c07bb3e"
      },
      "execution_count": 85,
      "outputs": [
        {
          "output_type": "stream",
          "name": "stdout",
          "text": [
            "Inertie totale : 5801.798628796437\n"
          ]
        }
      ]
    },
    {
      "cell_type": "code",
      "source": [
        "fig = plt.figure(figsize=(8,4))\n",
        "model = KMeans(n_clusters=2)\n",
        "model.fit(Z)\n",
        "model.predict(Z)\n",
        "plt.scatter(Z[:,0], Z[:,1],c=model.predict(Z))\n",
        "plt.scatter(model.cluster_centers_[:,0], model.cluster_centers_[:,1], marker='^',c='c')\n",
        "plt.grid()\n",
        "plt.show()\n",
        "print('Inertie totale :',model.inertia_)"
      ],
      "metadata": {
        "colab": {
          "base_uri": "https://localhost:8080/",
          "height": 285
        },
        "id": "UFocOUkIyXvX",
        "outputId": "404f1e9b-fec2-4274-a0a3-4c97fda86d49"
      },
      "execution_count": 86,
      "outputs": [
        {
          "output_type": "display_data",
          "data": {
            "text/plain": [
              "<Figure size 576x288 with 1 Axes>"
            ],
            "image/png": "[encoded data removed]"
          },
          "metadata": {
            "needs_background": "light"
          }
        },
        {
          "output_type": "stream",
          "name": "stdout",
          "text": [
            "Inertie totale : 672602643.0401471\n"
          ]
        }
      ]
    },
    {
      "cell_type": "code",
      "source": [
        "# Nous affichons les billets vrais positifs, billets faux positifs, billets vrais négatifs et les billets faux négatifs\n",
        "vraipos, vraineg, fauxneg, fauxpos = confusion_matrix(df_final['is_genuine'],a).ravel()\n",
        "vraipos, vraineg, fauxneg, fauxpos\n",
        "print(\"\\n\"'Vrais positifs :',vraipos,\"\\n\"'Faux positifs :',fauxpos,\"\\n\"'Vrais négatifs :',vraineg,\"\\n\"'Faux négatifs :',fauxneg)"
      ],
      "metadata": {
        "colab": {
          "base_uri": "https://localhost:8080/"
        },
        "id": "aibh1ZE0_ok3",
        "outputId": "38b6d8f8-5524-499c-d35b-3d290027dc67"
      },
      "execution_count": 109,
      "outputs": [
        {
          "output_type": "stream",
          "name": "stdout",
          "text": [
            "\n",
            "Vrais positifs : 486 \n",
            "Faux positifs : 990 \n",
            "Vrais négatifs : 14 \n",
            "Faux négatifs : 10\n"
          ]
        }
      ]
    },
    {
      "cell_type": "markdown",
      "source": [
        "# **d) La courbe de ROC**"
      ],
      "metadata": {
        "id": "krHiuAKi3abn"
      }
    },
    {
      "cell_type": "code",
      "source": [
        "def plot_roc_curve(fauxpos, vraineg):\n",
        "    aucf =metrics.auc(fauxpos, vraineg)\n",
        "    plt.plot(fauxpos, vraineg, color='red', label='ROC'+ \"\\n\"'  AUC=%1.5f' % aucf)\n",
        "    plt.plot([0, 1], [0, 1], color='green', linestyle='--')\n",
        "    plt.xlabel('Taux de faux positifs')\n",
        "    plt.ylabel('Taux de vrais positifs')\n",
        "    plt.title('ROC : Receiver Operating Characteristic Curve')\n",
        "    plt.legend()\n",
        "    plt.show()\n",
        "\n",
        "prob = km.predict(X_scaled)\n",
        "#prob = probs[:, 1]\n",
        "fauxpos, vraineg, thresholds = roc_curve(df_final['is_genuine'], a)\n",
        "plot_roc_curve(fauxpos, vraineg)"
      ],
      "metadata": {
        "colab": {
          "base_uri": "https://localhost:8080/",
          "height": 301
        },
        "id": "2vPzuh0OAssa",
        "outputId": "9fb32cf3-bfcc-4b8e-8942-c5efa55b6291"
      },
      "execution_count": 112,
      "outputs": [
        {
          "output_type": "display_data",
          "data": {
            "text/plain": [
              "<Figure size 432x288 with 1 Axes>"
            ],
            "image/png": "[encoded data removed]"
          },
          "metadata": {
            "needs_background": "light"
          }
        }
      ]
    }
  ]
}